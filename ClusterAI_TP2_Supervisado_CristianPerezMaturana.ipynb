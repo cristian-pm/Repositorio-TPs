{
 "cells": [
  {
   "cell_type": "markdown",
   "metadata": {
    "id": "P3ANPsbtkuXj"
   },
   "source": [
    "## **Trabajo Práctico Individual n° 2: Aprendizaje Supervisado**\n",
    "____\n",
    "__Universidad Tecnológica Nacional, Buenos Aires__\\\n",
    "__Ingeniería Industrial__\\\n",
    "__Ciencia de Datos - Curso I5521__\n",
    "____"
   ]
  },
  {
   "cell_type": "markdown",
   "metadata": {
    "id": "cTPsPHb_lWTE"
   },
   "source": [
    "- Nombre: Cristian\n",
    "- Apellido: Pérez Maturana\n",
    "- Legajo: 147903-9"
   ]
  },
  {
   "cell_type": "markdown",
   "metadata": {
    "id": "E5W-65MskuXx"
   },
   "source": [
    "En este trabajo práctico aplicaremos algunas técnicas aprendidas para el aprendizaje automático supervisado.\n",
    "\n",
    "Utilizaremos un dataset de airbnb donde buscaremos predecir el precio de las noches de cada hogar en funcion de algunas variables."
   ]
  },
  {
   "cell_type": "markdown",
   "metadata": {
    "id": "mKUpHSLqkuXz"
   },
   "source": [
    "#### Variables:\n",
    "- Unnamed: 0: Variable de contador de registros (no será utilizada en nuetro análisis)\n",
    "- neighbourhood: Barrio donde se encuentra ubicado la casa.\n",
    "- room_type: Tipo de hogar en alquiler.\n",
    "- price: Precio por noche.\n",
    "- minimum_nights: Cantidad minimas de noches que pueden alquilar el hogar.\n",
    "- number_of_reviews: Cantidad de reviews\n",
    "- reviews_per_month: Tasa de reviews que tienen por mes\n",
    "- calculated_host_listings_count: Cantidad de hogares ofrecidos por el host.\n",
    "- availability_365: Cantidad de dias que se encuentra en alquiler el hogar"
   ]
  },
  {
   "cell_type": "markdown",
   "metadata": {
    "id": "hWk9Vqs8l5jg"
   },
   "source": [
    "## **Objetivos del trabajo practico**\n",
    "- resolver los requisitos que se detallan en las proximas celdas\n",
    "- dejar comentarios # en cada linea de codigo que se agregue\n",
    "- fecha limite de entrega: 13 de Octubre 2022 a las 23h59"
   ]
  },
  {
   "cell_type": "code",
   "execution_count": 1,
   "metadata": {
    "id": "7VzMW3fvkuX0"
   },
   "outputs": [],
   "source": [
    "## se importan librerías de manipulación de datos\n",
    "import pandas as pd\n",
    "import numpy as np\n",
    "import seaborn as sns\n",
    "import matplotlib.pyplot as plt"
   ]
  },
  {
   "cell_type": "code",
   "execution_count": 2,
   "metadata": {
    "id": "NFgDAUVLNfhE"
   },
   "outputs": [],
   "source": [
    "## se importan librerías de aprendizaje automático\n",
    "from sklearn import preprocessing\n",
    "from sklearn import linear_model\n",
    "from sklearn.model_selection import train_test_split, cross_val_score\n",
    "from sklearn.metrics import r2_score, mean_squared_error\n",
    "from sklearn.utils import shuffle\n",
    "from sklearn.preprocessing import StandardScaler\n",
    "from sklearn import preprocessing\n",
    "from sklearn.preprocessing import LabelEncoder\n",
    "from sklearn.linear_model import LinearRegression\n",
    "from sklearn.svm import SVR, LinearSVR\n",
    "from sklearn.metrics import mean_squared_error, make_scorer\n",
    "from sklearn.model_selection import GridSearchCV"
   ]
  },
  {
   "cell_type": "markdown",
   "metadata": {
    "id": "v7h4SOeAkuX4"
   },
   "source": [
    "##### **Objetivo 1**\n",
    "Lo primero que deberan hacer será importar\n",
    "- el dataset bajo en nombre \"london\"\n",
    "- corroborar que lo hayamos cargado correctamente."
   ]
  },
  {
   "cell_type": "code",
   "execution_count": 3,
   "metadata": {
    "id": "2EOIgMedmgBM"
   },
   "outputs": [],
   "source": [
    "# lectura de dataset\n",
    "london = pd.read_csv(r'D:\\CPM\\Ciencia de datos\\Directorio\\TP 2\\TP2_airbnb_london.csv')"
   ]
  },
  {
   "cell_type": "code",
   "execution_count": 4,
   "metadata": {},
   "outputs": [
    {
     "data": {
      "text/html": [
       "<div>\n",
       "<style scoped>\n",
       "    .dataframe tbody tr th:only-of-type {\n",
       "        vertical-align: middle;\n",
       "    }\n",
       "\n",
       "    .dataframe tbody tr th {\n",
       "        vertical-align: top;\n",
       "    }\n",
       "\n",
       "    .dataframe thead th {\n",
       "        text-align: right;\n",
       "    }\n",
       "</style>\n",
       "<table border=\"1\" class=\"dataframe\">\n",
       "  <thead>\n",
       "    <tr style=\"text-align: right;\">\n",
       "      <th></th>\n",
       "      <th>Unnamed: 0</th>\n",
       "      <th>neighbourhood</th>\n",
       "      <th>room_type</th>\n",
       "      <th>price</th>\n",
       "      <th>minimum_nights</th>\n",
       "      <th>number_of_reviews</th>\n",
       "      <th>reviews_per_month</th>\n",
       "      <th>calculated_host_listings_count</th>\n",
       "      <th>availability_365</th>\n",
       "    </tr>\n",
       "  </thead>\n",
       "  <tbody>\n",
       "    <tr>\n",
       "      <th>51822</th>\n",
       "      <td>74816</td>\n",
       "      <td>Brent</td>\n",
       "      <td>Entire home/apt</td>\n",
       "      <td>60</td>\n",
       "      <td>5</td>\n",
       "      <td>1</td>\n",
       "      <td>1.0</td>\n",
       "      <td>1</td>\n",
       "      <td>7</td>\n",
       "    </tr>\n",
       "    <tr>\n",
       "      <th>51823</th>\n",
       "      <td>74927</td>\n",
       "      <td>Lewisham</td>\n",
       "      <td>Entire home/apt</td>\n",
       "      <td>30</td>\n",
       "      <td>2</td>\n",
       "      <td>1</td>\n",
       "      <td>1.0</td>\n",
       "      <td>1</td>\n",
       "      <td>26</td>\n",
       "    </tr>\n",
       "    <tr>\n",
       "      <th>51824</th>\n",
       "      <td>75003</td>\n",
       "      <td>Westminster</td>\n",
       "      <td>Entire home/apt</td>\n",
       "      <td>280</td>\n",
       "      <td>3</td>\n",
       "      <td>1</td>\n",
       "      <td>1.0</td>\n",
       "      <td>14</td>\n",
       "      <td>352</td>\n",
       "    </tr>\n",
       "    <tr>\n",
       "      <th>51825</th>\n",
       "      <td>75054</td>\n",
       "      <td>Tower Hamlets</td>\n",
       "      <td>Private room</td>\n",
       "      <td>35</td>\n",
       "      <td>2</td>\n",
       "      <td>1</td>\n",
       "      <td>1.0</td>\n",
       "      <td>1</td>\n",
       "      <td>13</td>\n",
       "    </tr>\n",
       "    <tr>\n",
       "      <th>51826</th>\n",
       "      <td>75192</td>\n",
       "      <td>Westminster</td>\n",
       "      <td>Private room</td>\n",
       "      <td>66</td>\n",
       "      <td>2</td>\n",
       "      <td>1</td>\n",
       "      <td>1.0</td>\n",
       "      <td>1</td>\n",
       "      <td>140</td>\n",
       "    </tr>\n",
       "  </tbody>\n",
       "</table>\n",
       "</div>"
      ],
      "text/plain": [
       "       Unnamed: 0  neighbourhood        room_type  price  minimum_nights  \\\n",
       "51822       74816          Brent  Entire home/apt     60               5   \n",
       "51823       74927       Lewisham  Entire home/apt     30               2   \n",
       "51824       75003    Westminster  Entire home/apt    280               3   \n",
       "51825       75054  Tower Hamlets     Private room     35               2   \n",
       "51826       75192    Westminster     Private room     66               2   \n",
       "\n",
       "       number_of_reviews  reviews_per_month  calculated_host_listings_count  \\\n",
       "51822                  1                1.0                               1   \n",
       "51823                  1                1.0                               1   \n",
       "51824                  1                1.0                              14   \n",
       "51825                  1                1.0                               1   \n",
       "51826                  1                1.0                               1   \n",
       "\n",
       "       availability_365  \n",
       "51822                 7  \n",
       "51823                26  \n",
       "51824               352  \n",
       "51825                13  \n",
       "51826               140  "
      ]
     },
     "execution_count": 4,
     "metadata": {},
     "output_type": "execute_result"
    }
   ],
   "source": [
    "# se visualizan 5 filas de muestra del dataset con todas sus features\n",
    "london.tail()"
   ]
  },
  {
   "cell_type": "markdown",
   "metadata": {
    "id": "LFZY1u8XkuX5"
   },
   "source": [
    "##### **Objetivo 2**\n",
    "Ahora imprimir también las dimensiones del dataset y eliminar la variable \"Unnamed:0\" del dataset.\n",
    "Volver a guardar el dataset sin esta variable bajo el nombre \"london\" "
   ]
  },
  {
   "cell_type": "code",
   "execution_count": 5,
   "metadata": {
    "id": "V6WzWe1JkuX7"
   },
   "outputs": [
    {
     "data": {
      "text/plain": [
       "(51827, 9)"
      ]
     },
     "execution_count": 5,
     "metadata": {},
     "output_type": "execute_result"
    }
   ],
   "source": [
    "# se imprimen dimensiones iniciales\n",
    "london.shape"
   ]
  },
  {
   "cell_type": "code",
   "execution_count": 6,
   "metadata": {},
   "outputs": [],
   "source": [
    "# eliminación de variable Unnamed: 0\n",
    "london = london.drop(['Unnamed: 0'], axis=1)"
   ]
  },
  {
   "cell_type": "code",
   "execution_count": 7,
   "metadata": {},
   "outputs": [
    {
     "data": {
      "text/plain": [
       "(51827, 8)"
      ]
     },
     "execution_count": 7,
     "metadata": {},
     "output_type": "execute_result"
    }
   ],
   "source": [
    "# se verifican nuevas dimensiones\n",
    "london.shape"
   ]
  },
  {
   "cell_type": "code",
   "execution_count": 8,
   "metadata": {},
   "outputs": [],
   "source": [
    "# celda de código auxiliar para dropear el 95% de las samples del dataset solo a fin de probar y correr la notebook más rápido.\n",
    "# se deberá saltear para correrla entera\n",
    "london = london.drop(london.index[2000:51000])\n",
    "london.shape"
   ]
  },
  {
   "cell_type": "markdown",
   "metadata": {
    "id": "i6rbeiRvkuX8"
   },
   "source": [
    "##### **Objetivo 3**\n",
    "Corroborar que el dataset no cuenta con valores nulos, si los hubiera llenarlos todos con 0."
   ]
  },
  {
   "cell_type": "code",
   "execution_count": 10,
   "metadata": {
    "id": "huJVDzyTkuX8"
   },
   "outputs": [
    {
     "data": {
      "text/plain": [
       "neighbourhood                     0\n",
       "room_type                         0\n",
       "price                             0\n",
       "minimum_nights                    0\n",
       "number_of_reviews                 0\n",
       "reviews_per_month                 0\n",
       "calculated_host_listings_count    0\n",
       "availability_365                  0\n",
       "dtype: int64"
      ]
     },
     "execution_count": 10,
     "metadata": {},
     "output_type": "execute_result"
    }
   ],
   "source": [
    "# se suman la cantidad de nulos por cada feature del dataset\n",
    "london.isnull().sum()"
   ]
  },
  {
   "cell_type": "markdown",
   "metadata": {
    "id": "J5K3hnLhkuX9"
   },
   "source": [
    "##### **Objetivo 4**\n",
    "Mostrar el tipo de dato para las variables \"neighbourhood\" y \"room_type\"."
   ]
  },
  {
   "cell_type": "code",
   "execution_count": 11,
   "metadata": {
    "id": "buyjxSDNkuX-",
    "scrolled": true
   },
   "outputs": [
    {
     "name": "stdout",
     "output_type": "stream",
     "text": [
      "<class 'pandas.core.frame.DataFrame'>\n",
      "Int64Index: 2827 entries, 0 to 51826\n",
      "Data columns (total 8 columns):\n",
      " #   Column                          Non-Null Count  Dtype  \n",
      "---  ------                          --------------  -----  \n",
      " 0   neighbourhood                   2827 non-null   object \n",
      " 1   room_type                       2827 non-null   object \n",
      " 2   price                           2827 non-null   int64  \n",
      " 3   minimum_nights                  2827 non-null   int64  \n",
      " 4   number_of_reviews               2827 non-null   int64  \n",
      " 5   reviews_per_month               2827 non-null   float64\n",
      " 6   calculated_host_listings_count  2827 non-null   int64  \n",
      " 7   availability_365                2827 non-null   int64  \n",
      "dtypes: float64(1), int64(5), object(2)\n",
      "memory usage: 198.8+ KB\n"
     ]
    }
   ],
   "source": [
    "# con pd.info() se observan los tipos de dato tanto de dichas variables como del resto para aprovechar a verificarlas\n",
    "london.info()"
   ]
  },
  {
   "cell_type": "markdown",
   "metadata": {
    "id": "-Pif7gnqkuX-"
   },
   "source": [
    "##### **Objetivo 5**\n",
    "Generar las variables dummies para estas dos variables categóricas y unirlas al dataset london.\n"
   ]
  },
  {
   "cell_type": "code",
   "execution_count": 12,
   "metadata": {
    "id": "WQ2GszPKNfhI"
   },
   "outputs": [],
   "source": [
    "# se generan dummies para la feature neighbourhood, dentro de la variable neigh_dummies\n",
    "neigh_dummies = pd.get_dummies(data=london, columns=['neighbourhood'])"
   ]
  },
  {
   "cell_type": "markdown",
   "metadata": {
    "id": "D9raTKcGNfhJ"
   },
   "source": [
    "Imprimir las dimensiones y primeras lineas de estas dummies"
   ]
  },
  {
   "cell_type": "code",
   "execution_count": 13,
   "metadata": {
    "id": "x5aYhwWcNfhJ"
   },
   "outputs": [
    {
     "data": {
      "text/plain": [
       "(2827, 40)"
      ]
     },
     "execution_count": 13,
     "metadata": {},
     "output_type": "execute_result"
    }
   ],
   "source": [
    "# dimensiones de las dummies generadas\n",
    "neigh_dummies.shape"
   ]
  },
  {
   "cell_type": "code",
   "execution_count": 14,
   "metadata": {
    "id": "ehoVgr9NNfhJ"
   },
   "outputs": [
    {
     "data": {
      "text/html": [
       "<div>\n",
       "<style scoped>\n",
       "    .dataframe tbody tr th:only-of-type {\n",
       "        vertical-align: middle;\n",
       "    }\n",
       "\n",
       "    .dataframe tbody tr th {\n",
       "        vertical-align: top;\n",
       "    }\n",
       "\n",
       "    .dataframe thead th {\n",
       "        text-align: right;\n",
       "    }\n",
       "</style>\n",
       "<table border=\"1\" class=\"dataframe\">\n",
       "  <thead>\n",
       "    <tr style=\"text-align: right;\">\n",
       "      <th></th>\n",
       "      <th>room_type</th>\n",
       "      <th>price</th>\n",
       "      <th>minimum_nights</th>\n",
       "      <th>number_of_reviews</th>\n",
       "      <th>reviews_per_month</th>\n",
       "      <th>calculated_host_listings_count</th>\n",
       "      <th>availability_365</th>\n",
       "      <th>neighbourhood_Barking and Dagenham</th>\n",
       "      <th>neighbourhood_Barnet</th>\n",
       "      <th>neighbourhood_Bexley</th>\n",
       "      <th>...</th>\n",
       "      <th>neighbourhood_Merton</th>\n",
       "      <th>neighbourhood_Newham</th>\n",
       "      <th>neighbourhood_Redbridge</th>\n",
       "      <th>neighbourhood_Richmond upon Thames</th>\n",
       "      <th>neighbourhood_Southwark</th>\n",
       "      <th>neighbourhood_Sutton</th>\n",
       "      <th>neighbourhood_Tower Hamlets</th>\n",
       "      <th>neighbourhood_Waltham Forest</th>\n",
       "      <th>neighbourhood_Wandsworth</th>\n",
       "      <th>neighbourhood_Westminster</th>\n",
       "    </tr>\n",
       "  </thead>\n",
       "  <tbody>\n",
       "    <tr>\n",
       "      <th>0</th>\n",
       "      <td>Private room</td>\n",
       "      <td>35</td>\n",
       "      <td>1</td>\n",
       "      <td>131</td>\n",
       "      <td>1.71</td>\n",
       "      <td>4</td>\n",
       "      <td>262</td>\n",
       "      <td>0</td>\n",
       "      <td>0</td>\n",
       "      <td>0</td>\n",
       "      <td>...</td>\n",
       "      <td>0</td>\n",
       "      <td>0</td>\n",
       "      <td>0</td>\n",
       "      <td>0</td>\n",
       "      <td>0</td>\n",
       "      <td>0</td>\n",
       "      <td>0</td>\n",
       "      <td>0</td>\n",
       "      <td>0</td>\n",
       "      <td>0</td>\n",
       "    </tr>\n",
       "    <tr>\n",
       "      <th>1</th>\n",
       "      <td>Private room</td>\n",
       "      <td>70</td>\n",
       "      <td>2</td>\n",
       "      <td>2</td>\n",
       "      <td>0.07</td>\n",
       "      <td>6</td>\n",
       "      <td>62</td>\n",
       "      <td>0</td>\n",
       "      <td>0</td>\n",
       "      <td>0</td>\n",
       "      <td>...</td>\n",
       "      <td>0</td>\n",
       "      <td>0</td>\n",
       "      <td>0</td>\n",
       "      <td>0</td>\n",
       "      <td>0</td>\n",
       "      <td>0</td>\n",
       "      <td>0</td>\n",
       "      <td>0</td>\n",
       "      <td>0</td>\n",
       "      <td>0</td>\n",
       "    </tr>\n",
       "    <tr>\n",
       "      <th>2</th>\n",
       "      <td>Private room</td>\n",
       "      <td>45</td>\n",
       "      <td>1</td>\n",
       "      <td>14</td>\n",
       "      <td>0.14</td>\n",
       "      <td>2</td>\n",
       "      <td>364</td>\n",
       "      <td>0</td>\n",
       "      <td>0</td>\n",
       "      <td>0</td>\n",
       "      <td>...</td>\n",
       "      <td>0</td>\n",
       "      <td>0</td>\n",
       "      <td>0</td>\n",
       "      <td>0</td>\n",
       "      <td>0</td>\n",
       "      <td>0</td>\n",
       "      <td>0</td>\n",
       "      <td>0</td>\n",
       "      <td>0</td>\n",
       "      <td>0</td>\n",
       "    </tr>\n",
       "    <tr>\n",
       "      <th>3</th>\n",
       "      <td>Entire home/apt</td>\n",
       "      <td>102</td>\n",
       "      <td>5</td>\n",
       "      <td>7</td>\n",
       "      <td>0.07</td>\n",
       "      <td>56</td>\n",
       "      <td>295</td>\n",
       "      <td>0</td>\n",
       "      <td>0</td>\n",
       "      <td>0</td>\n",
       "      <td>...</td>\n",
       "      <td>0</td>\n",
       "      <td>0</td>\n",
       "      <td>0</td>\n",
       "      <td>0</td>\n",
       "      <td>0</td>\n",
       "      <td>0</td>\n",
       "      <td>1</td>\n",
       "      <td>0</td>\n",
       "      <td>0</td>\n",
       "      <td>0</td>\n",
       "    </tr>\n",
       "    <tr>\n",
       "      <th>4</th>\n",
       "      <td>Private room</td>\n",
       "      <td>29</td>\n",
       "      <td>5</td>\n",
       "      <td>114</td>\n",
       "      <td>1.13</td>\n",
       "      <td>3</td>\n",
       "      <td>285</td>\n",
       "      <td>0</td>\n",
       "      <td>1</td>\n",
       "      <td>0</td>\n",
       "      <td>...</td>\n",
       "      <td>0</td>\n",
       "      <td>0</td>\n",
       "      <td>0</td>\n",
       "      <td>0</td>\n",
       "      <td>0</td>\n",
       "      <td>0</td>\n",
       "      <td>0</td>\n",
       "      <td>0</td>\n",
       "      <td>0</td>\n",
       "      <td>0</td>\n",
       "    </tr>\n",
       "  </tbody>\n",
       "</table>\n",
       "<p>5 rows × 40 columns</p>\n",
       "</div>"
      ],
      "text/plain": [
       "         room_type  price  minimum_nights  number_of_reviews  \\\n",
       "0     Private room     35               1                131   \n",
       "1     Private room     70               2                  2   \n",
       "2     Private room     45               1                 14   \n",
       "3  Entire home/apt    102               5                  7   \n",
       "4     Private room     29               5                114   \n",
       "\n",
       "   reviews_per_month  calculated_host_listings_count  availability_365  \\\n",
       "0               1.71                               4               262   \n",
       "1               0.07                               6                62   \n",
       "2               0.14                               2               364   \n",
       "3               0.07                              56               295   \n",
       "4               1.13                               3               285   \n",
       "\n",
       "   neighbourhood_Barking and Dagenham  neighbourhood_Barnet  \\\n",
       "0                                   0                     0   \n",
       "1                                   0                     0   \n",
       "2                                   0                     0   \n",
       "3                                   0                     0   \n",
       "4                                   0                     1   \n",
       "\n",
       "   neighbourhood_Bexley  ...  neighbourhood_Merton  neighbourhood_Newham  \\\n",
       "0                     0  ...                     0                     0   \n",
       "1                     0  ...                     0                     0   \n",
       "2                     0  ...                     0                     0   \n",
       "3                     0  ...                     0                     0   \n",
       "4                     0  ...                     0                     0   \n",
       "\n",
       "   neighbourhood_Redbridge  neighbourhood_Richmond upon Thames  \\\n",
       "0                        0                                   0   \n",
       "1                        0                                   0   \n",
       "2                        0                                   0   \n",
       "3                        0                                   0   \n",
       "4                        0                                   0   \n",
       "\n",
       "   neighbourhood_Southwark  neighbourhood_Sutton  neighbourhood_Tower Hamlets  \\\n",
       "0                        0                     0                            0   \n",
       "1                        0                     0                            0   \n",
       "2                        0                     0                            0   \n",
       "3                        0                     0                            1   \n",
       "4                        0                     0                            0   \n",
       "\n",
       "   neighbourhood_Waltham Forest  neighbourhood_Wandsworth  \\\n",
       "0                             0                         0   \n",
       "1                             0                         0   \n",
       "2                             0                         0   \n",
       "3                             0                         0   \n",
       "4                             0                         0   \n",
       "\n",
       "   neighbourhood_Westminster  \n",
       "0                          0  \n",
       "1                          0  \n",
       "2                          0  \n",
       "3                          0  \n",
       "4                          0  \n",
       "\n",
       "[5 rows x 40 columns]"
      ]
     },
     "execution_count": 14,
     "metadata": {},
     "output_type": "execute_result"
    }
   ],
   "source": [
    "# primeras filas del dataframe creado\n",
    "neigh_dummies.head()"
   ]
  },
  {
   "cell_type": "code",
   "execution_count": 15,
   "metadata": {
    "id": "qdGPJ4tONfhJ"
   },
   "outputs": [],
   "source": [
    "# se generan dummies para la feature room_type, dentro de la variable room_dummies\n",
    "room_dummies = pd.get_dummies(data=london, columns=['room_type'])"
   ]
  },
  {
   "cell_type": "markdown",
   "metadata": {
    "id": "lDHhvq4_NfhJ"
   },
   "source": [
    "Imprimir las dimensiones y primeras lineas de estas dummies"
   ]
  },
  {
   "cell_type": "code",
   "execution_count": 16,
   "metadata": {
    "id": "ssP3nFUcNfhJ"
   },
   "outputs": [
    {
     "data": {
      "text/plain": [
       "(2827, 10)"
      ]
     },
     "execution_count": 16,
     "metadata": {},
     "output_type": "execute_result"
    }
   ],
   "source": [
    "# dimensiones de las dummies generadas\n",
    "room_dummies.shape"
   ]
  },
  {
   "cell_type": "code",
   "execution_count": 17,
   "metadata": {
    "id": "jmB-t-3hNfhK",
    "scrolled": true
   },
   "outputs": [
    {
     "data": {
      "text/html": [
       "<div>\n",
       "<style scoped>\n",
       "    .dataframe tbody tr th:only-of-type {\n",
       "        vertical-align: middle;\n",
       "    }\n",
       "\n",
       "    .dataframe tbody tr th {\n",
       "        vertical-align: top;\n",
       "    }\n",
       "\n",
       "    .dataframe thead th {\n",
       "        text-align: right;\n",
       "    }\n",
       "</style>\n",
       "<table border=\"1\" class=\"dataframe\">\n",
       "  <thead>\n",
       "    <tr style=\"text-align: right;\">\n",
       "      <th></th>\n",
       "      <th>neighbourhood</th>\n",
       "      <th>price</th>\n",
       "      <th>minimum_nights</th>\n",
       "      <th>number_of_reviews</th>\n",
       "      <th>reviews_per_month</th>\n",
       "      <th>calculated_host_listings_count</th>\n",
       "      <th>availability_365</th>\n",
       "      <th>room_type_Entire home/apt</th>\n",
       "      <th>room_type_Private room</th>\n",
       "      <th>room_type_Shared room</th>\n",
       "    </tr>\n",
       "  </thead>\n",
       "  <tbody>\n",
       "    <tr>\n",
       "      <th>0</th>\n",
       "      <td>Haringey</td>\n",
       "      <td>35</td>\n",
       "      <td>1</td>\n",
       "      <td>131</td>\n",
       "      <td>1.71</td>\n",
       "      <td>4</td>\n",
       "      <td>262</td>\n",
       "      <td>0</td>\n",
       "      <td>1</td>\n",
       "      <td>0</td>\n",
       "    </tr>\n",
       "    <tr>\n",
       "      <th>1</th>\n",
       "      <td>Ealing</td>\n",
       "      <td>70</td>\n",
       "      <td>2</td>\n",
       "      <td>2</td>\n",
       "      <td>0.07</td>\n",
       "      <td>6</td>\n",
       "      <td>62</td>\n",
       "      <td>0</td>\n",
       "      <td>1</td>\n",
       "      <td>0</td>\n",
       "    </tr>\n",
       "    <tr>\n",
       "      <th>2</th>\n",
       "      <td>Islington</td>\n",
       "      <td>45</td>\n",
       "      <td>1</td>\n",
       "      <td>14</td>\n",
       "      <td>0.14</td>\n",
       "      <td>2</td>\n",
       "      <td>364</td>\n",
       "      <td>0</td>\n",
       "      <td>1</td>\n",
       "      <td>0</td>\n",
       "    </tr>\n",
       "    <tr>\n",
       "      <th>3</th>\n",
       "      <td>Tower Hamlets</td>\n",
       "      <td>102</td>\n",
       "      <td>5</td>\n",
       "      <td>7</td>\n",
       "      <td>0.07</td>\n",
       "      <td>56</td>\n",
       "      <td>295</td>\n",
       "      <td>1</td>\n",
       "      <td>0</td>\n",
       "      <td>0</td>\n",
       "    </tr>\n",
       "    <tr>\n",
       "      <th>4</th>\n",
       "      <td>Barnet</td>\n",
       "      <td>29</td>\n",
       "      <td>5</td>\n",
       "      <td>114</td>\n",
       "      <td>1.13</td>\n",
       "      <td>3</td>\n",
       "      <td>285</td>\n",
       "      <td>0</td>\n",
       "      <td>1</td>\n",
       "      <td>0</td>\n",
       "    </tr>\n",
       "  </tbody>\n",
       "</table>\n",
       "</div>"
      ],
      "text/plain": [
       "   neighbourhood  price  minimum_nights  number_of_reviews  reviews_per_month  \\\n",
       "0       Haringey     35               1                131               1.71   \n",
       "1         Ealing     70               2                  2               0.07   \n",
       "2      Islington     45               1                 14               0.14   \n",
       "3  Tower Hamlets    102               5                  7               0.07   \n",
       "4         Barnet     29               5                114               1.13   \n",
       "\n",
       "   calculated_host_listings_count  availability_365  \\\n",
       "0                               4               262   \n",
       "1                               6                62   \n",
       "2                               2               364   \n",
       "3                              56               295   \n",
       "4                               3               285   \n",
       "\n",
       "   room_type_Entire home/apt  room_type_Private room  room_type_Shared room  \n",
       "0                          0                       1                      0  \n",
       "1                          0                       1                      0  \n",
       "2                          0                       1                      0  \n",
       "3                          1                       0                      0  \n",
       "4                          0                       1                      0  "
      ]
     },
     "execution_count": 17,
     "metadata": {},
     "output_type": "execute_result"
    }
   ],
   "source": [
    "# primeras filas del dataframe creado\n",
    "room_dummies.head()"
   ]
  },
  {
   "cell_type": "markdown",
   "metadata": {
    "id": "c8CG_MEdkuX-"
   },
   "source": [
    "Joinear las variables dummies al dataset\n",
    "\n"
   ]
  },
  {
   "cell_type": "code",
   "execution_count": 18,
   "metadata": {},
   "outputs": [],
   "source": [
    "# dado que las dummies se crearon a la par del dataset original, \n",
    "# se eliminan features originales de ambos dataframes para conservar solo las columnas binarias\n",
    "neigh_dummies.drop(neigh_dummies.iloc[:, 0:7], axis=1, inplace=True)\n",
    "room_dummies.drop(room_dummies.iloc[:, 0:7], axis=1, inplace=True)"
   ]
  },
  {
   "cell_type": "code",
   "execution_count": 19,
   "metadata": {
    "id": "3Q0w7z_uNfhK"
   },
   "outputs": [
    {
     "data": {
      "text/html": [
       "<div>\n",
       "<style scoped>\n",
       "    .dataframe tbody tr th:only-of-type {\n",
       "        vertical-align: middle;\n",
       "    }\n",
       "\n",
       "    .dataframe tbody tr th {\n",
       "        vertical-align: top;\n",
       "    }\n",
       "\n",
       "    .dataframe thead th {\n",
       "        text-align: right;\n",
       "    }\n",
       "</style>\n",
       "<table border=\"1\" class=\"dataframe\">\n",
       "  <thead>\n",
       "    <tr style=\"text-align: right;\">\n",
       "      <th></th>\n",
       "      <th>neighbourhood</th>\n",
       "      <th>room_type</th>\n",
       "      <th>price</th>\n",
       "      <th>minimum_nights</th>\n",
       "      <th>number_of_reviews</th>\n",
       "      <th>reviews_per_month</th>\n",
       "      <th>calculated_host_listings_count</th>\n",
       "      <th>availability_365</th>\n",
       "      <th>neighbourhood_Barking and Dagenham</th>\n",
       "      <th>neighbourhood_Barnet</th>\n",
       "      <th>...</th>\n",
       "      <th>neighbourhood_Richmond upon Thames</th>\n",
       "      <th>neighbourhood_Southwark</th>\n",
       "      <th>neighbourhood_Sutton</th>\n",
       "      <th>neighbourhood_Tower Hamlets</th>\n",
       "      <th>neighbourhood_Waltham Forest</th>\n",
       "      <th>neighbourhood_Wandsworth</th>\n",
       "      <th>neighbourhood_Westminster</th>\n",
       "      <th>room_type_Entire home/apt</th>\n",
       "      <th>room_type_Private room</th>\n",
       "      <th>room_type_Shared room</th>\n",
       "    </tr>\n",
       "  </thead>\n",
       "  <tbody>\n",
       "    <tr>\n",
       "      <th>0</th>\n",
       "      <td>Haringey</td>\n",
       "      <td>Private room</td>\n",
       "      <td>35</td>\n",
       "      <td>1</td>\n",
       "      <td>131</td>\n",
       "      <td>1.71</td>\n",
       "      <td>4</td>\n",
       "      <td>262</td>\n",
       "      <td>0</td>\n",
       "      <td>0</td>\n",
       "      <td>...</td>\n",
       "      <td>0</td>\n",
       "      <td>0</td>\n",
       "      <td>0</td>\n",
       "      <td>0</td>\n",
       "      <td>0</td>\n",
       "      <td>0</td>\n",
       "      <td>0</td>\n",
       "      <td>0</td>\n",
       "      <td>1</td>\n",
       "      <td>0</td>\n",
       "    </tr>\n",
       "    <tr>\n",
       "      <th>1</th>\n",
       "      <td>Ealing</td>\n",
       "      <td>Private room</td>\n",
       "      <td>70</td>\n",
       "      <td>2</td>\n",
       "      <td>2</td>\n",
       "      <td>0.07</td>\n",
       "      <td>6</td>\n",
       "      <td>62</td>\n",
       "      <td>0</td>\n",
       "      <td>0</td>\n",
       "      <td>...</td>\n",
       "      <td>0</td>\n",
       "      <td>0</td>\n",
       "      <td>0</td>\n",
       "      <td>0</td>\n",
       "      <td>0</td>\n",
       "      <td>0</td>\n",
       "      <td>0</td>\n",
       "      <td>0</td>\n",
       "      <td>1</td>\n",
       "      <td>0</td>\n",
       "    </tr>\n",
       "    <tr>\n",
       "      <th>2</th>\n",
       "      <td>Islington</td>\n",
       "      <td>Private room</td>\n",
       "      <td>45</td>\n",
       "      <td>1</td>\n",
       "      <td>14</td>\n",
       "      <td>0.14</td>\n",
       "      <td>2</td>\n",
       "      <td>364</td>\n",
       "      <td>0</td>\n",
       "      <td>0</td>\n",
       "      <td>...</td>\n",
       "      <td>0</td>\n",
       "      <td>0</td>\n",
       "      <td>0</td>\n",
       "      <td>0</td>\n",
       "      <td>0</td>\n",
       "      <td>0</td>\n",
       "      <td>0</td>\n",
       "      <td>0</td>\n",
       "      <td>1</td>\n",
       "      <td>0</td>\n",
       "    </tr>\n",
       "    <tr>\n",
       "      <th>3</th>\n",
       "      <td>Tower Hamlets</td>\n",
       "      <td>Entire home/apt</td>\n",
       "      <td>102</td>\n",
       "      <td>5</td>\n",
       "      <td>7</td>\n",
       "      <td>0.07</td>\n",
       "      <td>56</td>\n",
       "      <td>295</td>\n",
       "      <td>0</td>\n",
       "      <td>0</td>\n",
       "      <td>...</td>\n",
       "      <td>0</td>\n",
       "      <td>0</td>\n",
       "      <td>0</td>\n",
       "      <td>1</td>\n",
       "      <td>0</td>\n",
       "      <td>0</td>\n",
       "      <td>0</td>\n",
       "      <td>1</td>\n",
       "      <td>0</td>\n",
       "      <td>0</td>\n",
       "    </tr>\n",
       "    <tr>\n",
       "      <th>4</th>\n",
       "      <td>Barnet</td>\n",
       "      <td>Private room</td>\n",
       "      <td>29</td>\n",
       "      <td>5</td>\n",
       "      <td>114</td>\n",
       "      <td>1.13</td>\n",
       "      <td>3</td>\n",
       "      <td>285</td>\n",
       "      <td>0</td>\n",
       "      <td>1</td>\n",
       "      <td>...</td>\n",
       "      <td>0</td>\n",
       "      <td>0</td>\n",
       "      <td>0</td>\n",
       "      <td>0</td>\n",
       "      <td>0</td>\n",
       "      <td>0</td>\n",
       "      <td>0</td>\n",
       "      <td>0</td>\n",
       "      <td>1</td>\n",
       "      <td>0</td>\n",
       "    </tr>\n",
       "  </tbody>\n",
       "</table>\n",
       "<p>5 rows × 44 columns</p>\n",
       "</div>"
      ],
      "text/plain": [
       "   neighbourhood        room_type  price  minimum_nights  number_of_reviews  \\\n",
       "0       Haringey     Private room     35               1                131   \n",
       "1         Ealing     Private room     70               2                  2   \n",
       "2      Islington     Private room     45               1                 14   \n",
       "3  Tower Hamlets  Entire home/apt    102               5                  7   \n",
       "4         Barnet     Private room     29               5                114   \n",
       "\n",
       "   reviews_per_month  calculated_host_listings_count  availability_365  \\\n",
       "0               1.71                               4               262   \n",
       "1               0.07                               6                62   \n",
       "2               0.14                               2               364   \n",
       "3               0.07                              56               295   \n",
       "4               1.13                               3               285   \n",
       "\n",
       "   neighbourhood_Barking and Dagenham  neighbourhood_Barnet  ...  \\\n",
       "0                                   0                     0  ...   \n",
       "1                                   0                     0  ...   \n",
       "2                                   0                     0  ...   \n",
       "3                                   0                     0  ...   \n",
       "4                                   0                     1  ...   \n",
       "\n",
       "   neighbourhood_Richmond upon Thames  neighbourhood_Southwark  \\\n",
       "0                                   0                        0   \n",
       "1                                   0                        0   \n",
       "2                                   0                        0   \n",
       "3                                   0                        0   \n",
       "4                                   0                        0   \n",
       "\n",
       "   neighbourhood_Sutton  neighbourhood_Tower Hamlets  \\\n",
       "0                     0                            0   \n",
       "1                     0                            0   \n",
       "2                     0                            0   \n",
       "3                     0                            1   \n",
       "4                     0                            0   \n",
       "\n",
       "   neighbourhood_Waltham Forest  neighbourhood_Wandsworth  \\\n",
       "0                             0                         0   \n",
       "1                             0                         0   \n",
       "2                             0                         0   \n",
       "3                             0                         0   \n",
       "4                             0                         0   \n",
       "\n",
       "   neighbourhood_Westminster  room_type_Entire home/apt  \\\n",
       "0                          0                          0   \n",
       "1                          0                          0   \n",
       "2                          0                          0   \n",
       "3                          0                          1   \n",
       "4                          0                          0   \n",
       "\n",
       "   room_type_Private room  room_type_Shared room  \n",
       "0                       1                      0  \n",
       "1                       1                      0  \n",
       "2                       1                      0  \n",
       "3                       0                      0  \n",
       "4                       1                      0  \n",
       "\n",
       "[5 rows x 44 columns]"
      ]
     },
     "execution_count": 19,
     "metadata": {},
     "output_type": "execute_result"
    }
   ],
   "source": [
    "# se joinean ambas dummies generadas al dataset original y se visualizan primeras líneas\n",
    "london = london.join([neigh_dummies, room_dummies])\n",
    "london.head()"
   ]
  },
  {
   "cell_type": "markdown",
   "metadata": {
    "id": "qjPPQtG6kuX_"
   },
   "source": [
    "##### Dividiremos nuestro dataset en la variable dependiente \"y\" (label o etiqueta) y las variables independientes \"x\""
   ]
  },
  {
   "cell_type": "code",
   "execution_count": 20,
   "metadata": {
    "id": "1TZWtiVTkuX_"
   },
   "outputs": [],
   "source": [
    "# creación de la variable y, filtrando solo los precios al conformar las etiquetas del modelo\n",
    "y = np.array(london[[\"price\"]])\n",
    "# se define X dropeando las etiquetas y las columnas originales por las cuales se crearon las dummies\n",
    "x = london.drop(['price', 'neighbourhood','room_type'], axis=1)"
   ]
  },
  {
   "cell_type": "markdown",
   "metadata": {
    "id": "s-2ujF5MkuYA"
   },
   "source": [
    "##### **Objetivo 7**\n",
    "\n",
    "Dividir el dataset entre Train y Test, tomar un test_size del 30%."
   ]
  },
  {
   "cell_type": "code",
   "execution_count": 21,
   "metadata": {
    "id": "SBepVVKIkuYA"
   },
   "outputs": [],
   "source": [
    "# partición del (x, y) en train y test, con 70-30% de relacion respectivamente, y se asigna seed arbitraria\n",
    "xtrain, xtest, ytrain, ytest = train_test_split(x, y, test_size=0.30, random_state=7)"
   ]
  },
  {
   "cell_type": "code",
   "execution_count": 22,
   "metadata": {},
   "outputs": [],
   "source": [
    "# se separan dummies del xtrain para poder escalar valores continuos originales\n",
    "xtrain_dummies = xtrain.drop(xtrain.iloc[:, 0:5], axis=1)\n",
    "# se guardan valores a escalar del xtrain\n",
    "xtrain_sindummies = xtrain.drop(xtrain.iloc[:, 5:42], axis=1)"
   ]
  },
  {
   "cell_type": "code",
   "execution_count": 23,
   "metadata": {},
   "outputs": [],
   "source": [
    "# se separan dummies del xtest para escalar valores continuos originales\n",
    "xtest_dummies = xtest.drop(xtest.iloc[:, 0:5], axis=1)\n",
    "# se guardan valores a escalar del xtest\n",
    "xtest_sindummies = xtest.drop(xtest.iloc[:, 5:42], axis=1)"
   ]
  },
  {
   "cell_type": "markdown",
   "metadata": {
    "id": "mfDnVu6hkuYB"
   },
   "source": [
    "##### **Objetivo 8**\n",
    "Con el StandardScaler generado en la linea siguiente, realizar el transform para el xtrain y xtest guardandolos en nuevas variables llamadas \"xtrain_scal\" y \"xtest_scal\".\n"
   ]
  },
  {
   "cell_type": "code",
   "execution_count": 24,
   "metadata": {
    "id": "QgDYMr1qNfhL"
   },
   "outputs": [],
   "source": [
    "# se define standard scaler ajustándolo según datos del xtrain\n",
    "scaler = preprocessing.StandardScaler().fit(xtrain_sindummies)"
   ]
  },
  {
   "cell_type": "code",
   "execution_count": 25,
   "metadata": {
    "id": "PTdTOdUANfhL"
   },
   "outputs": [],
   "source": [
    "# transform a los datos del xtrain y se guarda en variable\n",
    "xtrain_scal = scaler.transform(xtrain_sindummies)"
   ]
  },
  {
   "cell_type": "code",
   "execution_count": 26,
   "metadata": {
    "id": "xJX0JJI7kuYC"
   },
   "outputs": [],
   "source": [
    "# transform a los datos del xtest y se guarda en variable\n",
    "xtest_scal = scaler.transform(xtest_sindummies)"
   ]
  },
  {
   "cell_type": "code",
   "execution_count": 27,
   "metadata": {},
   "outputs": [],
   "source": [
    "# se convierten dummies de xtrain en array\n",
    "xtrain_dummies = xtrain_dummies.to_numpy()\n",
    "# idem xtest\n",
    "xtest_dummies = xtest_dummies.to_numpy()"
   ]
  },
  {
   "cell_type": "code",
   "execution_count": 28,
   "metadata": {},
   "outputs": [],
   "source": [
    "# se joinean dummies a xtrain y xtest ya escalados\n",
    "xtrain_london = np.concatenate((xtrain_scal,xtrain_dummies), axis=1)\n",
    "xtest_london = np.concatenate((xtest_scal,xtest_dummies), axis=1)"
   ]
  },
  {
   "cell_type": "markdown",
   "metadata": {
    "id": "_hkXK5_ckuYC"
   },
   "source": [
    "##### **Objetivo 9**\n",
    "Crear un modelo lineal y entrenarlo para nuestro dataset.\n",
    "\n",
    "Obtener las predicciones y el \"mean_squared_error\" para el test set."
   ]
  },
  {
   "cell_type": "code",
   "execution_count": 29,
   "metadata": {
    "id": "P8am8EVokuYD"
   },
   "outputs": [],
   "source": [
    "# se crea modelo de regresión lineal\n",
    "lr = LinearRegression()"
   ]
  },
  {
   "cell_type": "code",
   "execution_count": 30,
   "metadata": {},
   "outputs": [
    {
     "data": {
      "text/plain": [
       "LinearRegression()"
      ]
     },
     "execution_count": 30,
     "metadata": {},
     "output_type": "execute_result"
    }
   ],
   "source": [
    "# se ajusta modelo utilizando set de entrenamiento\n",
    "lr.fit(xtrain_london, ytrain)"
   ]
  },
  {
   "cell_type": "code",
   "execution_count": 31,
   "metadata": {},
   "outputs": [],
   "source": [
    "# se obtienen predicciones que realiza el modelo con las muestras de test, y se guardan en 'ypred'\n",
    "ypred = lr.predict(xtest_london)"
   ]
  },
  {
   "cell_type": "code",
   "execution_count": 32,
   "metadata": {},
   "outputs": [
    {
     "data": {
      "text/plain": [
       "36.329418196709796"
      ]
     },
     "execution_count": 32,
     "metadata": {},
     "output_type": "execute_result"
    }
   ],
   "source": [
    "# calculo del error del modelo comparando predicciones con ytest\n",
    "np.sqrt(mean_squared_error(ytest, ypred))"
   ]
  },
  {
   "cell_type": "markdown",
   "metadata": {
    "id": "yQpkINPIkuYD"
   },
   "source": [
    "##### **Objetivo 10**\n",
    "Crear un SVM Regressor y un GridSearch para realizar la búsqueda de hiperparámetros.\n",
    "\n",
    "Asignar dos posibles valores para el parámetro \"kernel\", y tres posibles valores para \"C\" y \"gamma\".\n",
    "\n",
    "Setear al parámetro \"refit\" en True y hacer 5 CrossValidation."
   ]
  },
  {
   "cell_type": "code",
   "execution_count": 33,
   "metadata": {
    "id": "JK2ZKv6ONfhM"
   },
   "outputs": [],
   "source": [
    "# se define diccionario de parámetros para pasarle al grid search\n",
    "param_svreg = {'kernel':('sigmoid', 'rbf'),\n",
    "               'C':[10, 50, 100 ],\n",
    "               'gamma':[ 0.01, 0.1, 1]}"
   ]
  },
  {
   "cell_type": "code",
   "execution_count": 34,
   "metadata": {
    "id": "7CD4cIYUkuYE"
   },
   "outputs": [],
   "source": [
    "# gridsearch cross-validation utilizando Support vector regressor de estimador + el resto de hiperparámetros recién definidos\n",
    "regressor_svr = GridSearchCV(SVR(), param_svreg, cv=5, refit=True, verbose=3)"
   ]
  },
  {
   "cell_type": "code",
   "execution_count": 35,
   "metadata": {},
   "outputs": [
    {
     "name": "stdout",
     "output_type": "stream",
     "text": [
      "Fitting 5 folds for each of 18 candidates, totalling 90 fits\n",
      "[CV 1/5] END ..C=10, gamma=0.01, kernel=sigmoid;, score=0.369 total time=   0.3s\n",
      "[CV 2/5] END ..C=10, gamma=0.01, kernel=sigmoid;, score=0.404 total time=   0.2s\n",
      "[CV 3/5] END ..C=10, gamma=0.01, kernel=sigmoid;, score=0.366 total time=   0.2s\n",
      "[CV 4/5] END ..C=10, gamma=0.01, kernel=sigmoid;, score=0.374 total time=   0.2s\n",
      "[CV 5/5] END ..C=10, gamma=0.01, kernel=sigmoid;, score=0.334 total time=   0.2s\n",
      "[CV 1/5] END ......C=10, gamma=0.01, kernel=rbf;, score=0.413 total time=   0.3s\n",
      "[CV 2/5] END ......C=10, gamma=0.01, kernel=rbf;, score=0.454 total time=   0.3s\n",
      "[CV 3/5] END ......C=10, gamma=0.01, kernel=rbf;, score=0.425 total time=   0.3s\n",
      "[CV 4/5] END ......C=10, gamma=0.01, kernel=rbf;, score=0.429 total time=   0.4s\n",
      "[CV 5/5] END ......C=10, gamma=0.01, kernel=rbf;, score=0.379 total time=   0.3s\n",
      "[CV 1/5] END ..C=10, gamma=0.1, kernel=sigmoid;, score=-4.061 total time=   0.3s\n",
      "[CV 2/5] END ..C=10, gamma=0.1, kernel=sigmoid;, score=-4.005 total time=   0.3s\n",
      "[CV 3/5] END ..C=10, gamma=0.1, kernel=sigmoid;, score=-4.653 total time=   0.3s\n",
      "[CV 4/5] END ..C=10, gamma=0.1, kernel=sigmoid;, score=-5.439 total time=   0.2s\n",
      "[CV 5/5] END ..C=10, gamma=0.1, kernel=sigmoid;, score=-2.314 total time=   0.2s\n",
      "[CV 1/5] END .......C=10, gamma=0.1, kernel=rbf;, score=0.470 total time=   0.3s\n",
      "[CV 2/5] END .......C=10, gamma=0.1, kernel=rbf;, score=0.496 total time=   0.3s\n",
      "[CV 3/5] END .......C=10, gamma=0.1, kernel=rbf;, score=0.500 total time=   0.3s\n",
      "[CV 4/5] END .......C=10, gamma=0.1, kernel=rbf;, score=0.505 total time=   0.3s\n",
      "[CV 5/5] END .......C=10, gamma=0.1, kernel=rbf;, score=0.446 total time=   0.3s\n",
      "[CV 1/5] END ..C=10, gamma=1, kernel=sigmoid;, score=-644.954 total time=   0.3s\n",
      "[CV 2/5] END ..C=10, gamma=1, kernel=sigmoid;, score=-764.162 total time=   0.3s\n",
      "[CV 3/5] END ..C=10, gamma=1, kernel=sigmoid;, score=-723.083 total time=   0.3s\n",
      "[CV 4/5] END ..C=10, gamma=1, kernel=sigmoid;, score=-648.361 total time=   0.3s\n",
      "[CV 5/5] END ..C=10, gamma=1, kernel=sigmoid;, score=-662.839 total time=   0.3s\n",
      "[CV 1/5] END .........C=10, gamma=1, kernel=rbf;, score=0.341 total time=   0.3s\n",
      "[CV 2/5] END .........C=10, gamma=1, kernel=rbf;, score=0.328 total time=   0.3s\n",
      "[CV 3/5] END .........C=10, gamma=1, kernel=rbf;, score=0.340 total time=   0.3s\n",
      "[CV 4/5] END .........C=10, gamma=1, kernel=rbf;, score=0.363 total time=   0.3s\n",
      "[CV 5/5] END .........C=10, gamma=1, kernel=rbf;, score=0.318 total time=   0.3s\n",
      "[CV 1/5] END ..C=50, gamma=0.01, kernel=sigmoid;, score=0.412 total time=   0.3s\n",
      "[CV 2/5] END ..C=50, gamma=0.01, kernel=sigmoid;, score=0.443 total time=   0.2s\n",
      "[CV 3/5] END ..C=50, gamma=0.01, kernel=sigmoid;, score=0.450 total time=   0.2s\n",
      "[CV 4/5] END ..C=50, gamma=0.01, kernel=sigmoid;, score=0.437 total time=   0.3s\n",
      "[CV 5/5] END ..C=50, gamma=0.01, kernel=sigmoid;, score=0.413 total time=   0.2s\n",
      "[CV 1/5] END ......C=50, gamma=0.01, kernel=rbf;, score=0.475 total time=   0.3s\n",
      "[CV 2/5] END ......C=50, gamma=0.01, kernel=rbf;, score=0.502 total time=   0.3s\n",
      "[CV 3/5] END ......C=50, gamma=0.01, kernel=rbf;, score=0.497 total time=   0.3s\n",
      "[CV 4/5] END ......C=50, gamma=0.01, kernel=rbf;, score=0.500 total time=   0.3s\n",
      "[CV 5/5] END ......C=50, gamma=0.01, kernel=rbf;, score=0.447 total time=   0.3s\n",
      "[CV 1/5] END C=50, gamma=0.1, kernel=sigmoid;, score=-151.884 total time=   0.2s\n",
      "[CV 2/5] END C=50, gamma=0.1, kernel=sigmoid;, score=-140.664 total time=   0.2s\n",
      "[CV 3/5] END C=50, gamma=0.1, kernel=sigmoid;, score=-157.826 total time=   0.2s\n",
      "[CV 4/5] END C=50, gamma=0.1, kernel=sigmoid;, score=-192.820 total time=   0.2s\n",
      "[CV 5/5] END .C=50, gamma=0.1, kernel=sigmoid;, score=-89.253 total time=   0.2s\n",
      "[CV 1/5] END .......C=50, gamma=0.1, kernel=rbf;, score=0.504 total time=   0.3s\n",
      "[CV 2/5] END .......C=50, gamma=0.1, kernel=rbf;, score=0.502 total time=   0.3s\n",
      "[CV 3/5] END .......C=50, gamma=0.1, kernel=rbf;, score=0.519 total time=   0.3s\n",
      "[CV 4/5] END .......C=50, gamma=0.1, kernel=rbf;, score=0.541 total time=   0.3s\n",
      "[CV 5/5] END .......C=50, gamma=0.1, kernel=rbf;, score=0.481 total time=   0.3s\n",
      "[CV 1/5] END C=50, gamma=1, kernel=sigmoid;, score=-16830.291 total time=   0.4s\n",
      "[CV 2/5] END C=50, gamma=1, kernel=sigmoid;, score=-19597.164 total time=   0.4s\n",
      "[CV 3/5] END C=50, gamma=1, kernel=sigmoid;, score=-18594.381 total time=   0.4s\n",
      "[CV 4/5] END C=50, gamma=1, kernel=sigmoid;, score=-16283.181 total time=   0.4s\n",
      "[CV 5/5] END C=50, gamma=1, kernel=sigmoid;, score=-16669.836 total time=   0.4s\n",
      "[CV 1/5] END .........C=50, gamma=1, kernel=rbf;, score=0.452 total time=   0.4s\n",
      "[CV 2/5] END .........C=50, gamma=1, kernel=rbf;, score=0.398 total time=   0.4s\n",
      "[CV 3/5] END .........C=50, gamma=1, kernel=rbf;, score=0.399 total time=   0.4s\n",
      "[CV 4/5] END .........C=50, gamma=1, kernel=rbf;, score=0.439 total time=   0.4s\n",
      "[CV 5/5] END .........C=50, gamma=1, kernel=rbf;, score=0.392 total time=   0.4s\n",
      "[CV 1/5] END .C=100, gamma=0.01, kernel=sigmoid;, score=0.267 total time=   0.3s\n",
      "[CV 2/5] END .C=100, gamma=0.01, kernel=sigmoid;, score=0.202 total time=   0.3s\n",
      "[CV 3/5] END .C=100, gamma=0.01, kernel=sigmoid;, score=0.451 total time=   0.2s\n",
      "[CV 4/5] END .C=100, gamma=0.01, kernel=sigmoid;, score=0.225 total time=   0.2s\n",
      "[CV 5/5] END .C=100, gamma=0.01, kernel=sigmoid;, score=0.416 total time=   0.2s\n",
      "[CV 1/5] END .....C=100, gamma=0.01, kernel=rbf;, score=0.484 total time=   0.3s\n",
      "[CV 2/5] END .....C=100, gamma=0.01, kernel=rbf;, score=0.509 total time=   0.3s\n",
      "[CV 3/5] END .....C=100, gamma=0.01, kernel=rbf;, score=0.509 total time=   0.3s\n",
      "[CV 4/5] END .....C=100, gamma=0.01, kernel=rbf;, score=0.519 total time=   0.3s\n",
      "[CV 5/5] END .....C=100, gamma=0.01, kernel=rbf;, score=0.465 total time=   0.3s\n",
      "[CV 1/5] END C=100, gamma=0.1, kernel=sigmoid;, score=-644.177 total time=   0.2s\n",
      "[CV 2/5] END C=100, gamma=0.1, kernel=sigmoid;, score=-575.341 total time=   0.2s\n",
      "[CV 3/5] END C=100, gamma=0.1, kernel=sigmoid;, score=-667.516 total time=   0.2s\n",
      "[CV 4/5] END C=100, gamma=0.1, kernel=sigmoid;, score=-804.250 total time=   0.2s\n",
      "[CV 5/5] END C=100, gamma=0.1, kernel=sigmoid;, score=-368.905 total time=   0.2s\n",
      "[CV 1/5] END ......C=100, gamma=0.1, kernel=rbf;, score=0.502 total time=   0.4s\n",
      "[CV 2/5] END ......C=100, gamma=0.1, kernel=rbf;, score=0.486 total time=   0.4s\n",
      "[CV 3/5] END ......C=100, gamma=0.1, kernel=rbf;, score=0.504 total time=   0.4s\n",
      "[CV 4/5] END ......C=100, gamma=0.1, kernel=rbf;, score=0.549 total time=   0.3s\n",
      "[CV 5/5] END ......C=100, gamma=0.1, kernel=rbf;, score=0.491 total time=   0.3s\n",
      "[CV 1/5] END C=100, gamma=1, kernel=sigmoid;, score=-67329.592 total time=   0.3s\n",
      "[CV 2/5] END C=100, gamma=1, kernel=sigmoid;, score=-78236.261 total time=   0.3s\n",
      "[CV 3/5] END C=100, gamma=1, kernel=sigmoid;, score=-74300.931 total time=   0.3s\n",
      "[CV 4/5] END C=100, gamma=1, kernel=sigmoid;, score=-67080.007 total time=   0.3s\n",
      "[CV 5/5] END C=100, gamma=1, kernel=sigmoid;, score=-66629.752 total time=   0.3s\n",
      "[CV 1/5] END ........C=100, gamma=1, kernel=rbf;, score=0.433 total time=   0.4s\n",
      "[CV 2/5] END ........C=100, gamma=1, kernel=rbf;, score=0.384 total time=   0.4s\n",
      "[CV 3/5] END ........C=100, gamma=1, kernel=rbf;, score=0.373 total time=   0.5s\n",
      "[CV 4/5] END ........C=100, gamma=1, kernel=rbf;, score=0.415 total time=   0.5s\n",
      "[CV 5/5] END ........C=100, gamma=1, kernel=rbf;, score=0.395 total time=   0.6s\n"
     ]
    },
    {
     "data": {
      "text/plain": [
       "GridSearchCV(cv=5, estimator=SVR(),\n",
       "             param_grid={'C': [10, 50, 100], 'gamma': [0.01, 0.1, 1],\n",
       "                         'kernel': ('sigmoid', 'rbf')},\n",
       "             verbose=3)"
      ]
     },
     "execution_count": 35,
     "metadata": {},
     "output_type": "execute_result"
    }
   ],
   "source": [
    "# se entrena modelo\n",
    "regressor_svr.fit(xtrain_london, ytrain.ravel())"
   ]
  },
  {
   "cell_type": "markdown",
   "metadata": {
    "id": "YOuBv_mfkuYG"
   },
   "source": [
    "##### **Objetivo 11**\n",
    "\n",
    "Mostrar cuales fueron los mejores hiperparámetros y para estos obtener el mean_squared_error en el test set."
   ]
  },
  {
   "cell_type": "code",
   "execution_count": 36,
   "metadata": {
    "id": "HHwCIS0mNfhN"
   },
   "outputs": [
    {
     "data": {
      "text/plain": [
       "{'C': 50, 'gamma': 0.1, 'kernel': 'rbf'}"
      ]
     },
     "execution_count": 36,
     "metadata": {},
     "output_type": "execute_result"
    }
   ],
   "source": [
    "# se imprimen mejores hiperparámetros\n",
    "regressor_svr.best_params_"
   ]
  },
  {
   "cell_type": "code",
   "execution_count": 37,
   "metadata": {
    "id": "vlMZBccQNfhN"
   },
   "outputs": [
    {
     "data": {
      "text/plain": [
       "0.5095446303886344"
      ]
     },
     "execution_count": 37,
     "metadata": {},
     "output_type": "execute_result"
    }
   ],
   "source": [
    "# se imprime mejor r2\n",
    "regressor_svr.best_score_"
   ]
  },
  {
   "cell_type": "code",
   "execution_count": 38,
   "metadata": {
    "id": "fc8mozfEkuYH"
   },
   "outputs": [
    {
     "data": {
      "text/plain": [
       "array([101.82713496, 117.87860548, 114.30661806,  40.29634324,\n",
       "       110.62367423,  51.00610664,  47.22000522,  40.16872134,\n",
       "        42.38111565,  90.87587982,  45.42952764,  40.79371976,\n",
       "        93.84432965,  42.96020118,  85.32909544,  97.41048633,\n",
       "        33.6519221 ,  43.62779508,  99.20787298,  45.18703053,\n",
       "        40.77701813, 108.35863022, 132.76810896, 136.88968301,\n",
       "        48.93443573,  50.65423825, 101.6969047 ,  37.91631705,\n",
       "        59.40514434, 128.46506651, 120.47297102, 100.92580399,\n",
       "        92.57307279,  69.63332468, 163.25371184, 122.41711682,\n",
       "        31.70388544,  89.86514539, 103.51941694,  46.95515879,\n",
       "        37.40521192,  40.0144364 ,  32.43615349, 136.38506512,\n",
       "       109.08298029, 127.5342014 , 112.89121384,  92.33851668,\n",
       "        94.62866216,  40.040553  ,  82.92751868, 129.96143653,\n",
       "       111.82035431,  41.69083391, 137.76404946,  95.2753469 ,\n",
       "       135.75065334, 109.7215336 ,  48.08926297,  36.8095383 ,\n",
       "        90.85477689, 118.65943274,  50.32877827, 111.8416925 ,\n",
       "        81.53705649,  48.19681546,  40.94593926,  40.13650194,\n",
       "        98.61778631,  42.21774418,  48.29117415,  30.31977455,\n",
       "        43.85933199,  65.37783825,  57.72659085,  46.0978951 ,\n",
       "        45.09702831, 118.44148518, 108.35689113,  42.78528458,\n",
       "        38.75678019,  35.27025962, 110.1960192 ,  80.82253959,\n",
       "       129.7042034 ,  82.50986518,  95.78705626, 105.77128667,\n",
       "        66.240665  ,  36.67745369, 105.38059691,  92.86670653,\n",
       "        33.13568387, 132.76686785,  49.30119871,  92.11042526,\n",
       "        31.52739101, 105.3016126 ,  47.19704228,  35.70063619,\n",
       "       110.7310399 , 116.68927254, 110.45259805, 109.07444569,\n",
       "        29.65119334,  92.2192214 ,  36.73201108,  28.6532495 ,\n",
       "        44.44817771,  48.87813893,  45.85694384, 105.48081065,\n",
       "        95.87525216,  53.29825034, 148.97303494,  95.91419779,\n",
       "        35.1436654 ,  35.46484103,  33.52615716,  86.0816008 ,\n",
       "       117.88963299,  42.95592206,  29.69073496,  39.49581773,\n",
       "        32.92591715,  77.90561842, 120.8642349 ,  97.84606795,\n",
       "       121.15478983, 114.3158914 ,  47.00209489,  22.22442554,\n",
       "        89.97025406,  44.13007027, 122.98864506,  96.15522132,\n",
       "       145.43087186, 133.49133808,  30.57853918,  29.92179966,\n",
       "        57.78527544, 161.58050426,  94.6103109 ,  47.95838363,\n",
       "       109.28260955, 115.83465789,  51.54060387, 110.03524453,\n",
       "        51.46428745, 110.53542797, 125.3405377 ,  50.7724609 ,\n",
       "        60.30494997, 110.61011122,  45.71003886,  52.40540078,\n",
       "        37.87216775,  37.45152902, 102.32960718,  60.20833739,\n",
       "       122.83155756,  92.73795923, 116.2355209 ,  59.67806121,\n",
       "       132.69556268,  46.39125009,  48.52410937,  40.78896632,\n",
       "        31.72698715,  46.24391024, 119.6340388 ,  99.93694082,\n",
       "       120.33578702,  97.20668439, 127.79600246,  30.4754837 ,\n",
       "        78.90892603,  27.51150106,  30.72210297, 116.6603235 ,\n",
       "        52.44142288,  54.81022668,  57.70934139,  96.26190954,\n",
       "       133.67600686,  37.66389103, 121.50704726, 133.86721446,\n",
       "       106.97573164,  35.00612499,  63.18680461, 111.66303397,\n",
       "        59.08842913, 103.002772  ,  56.99591317,  96.93614259,\n",
       "        86.90960249,  39.52241161, 129.22697693,  97.38880638,\n",
       "       104.42910477,  44.70439399,  39.64013694,  47.50774172,\n",
       "        91.40058875,  45.77767135,  54.44590441, 112.73755263,\n",
       "        95.23251413,  41.10427776, 124.09534575,  25.63725145,\n",
       "        42.30027995,  98.87438651, 110.91232887,  44.01736475,\n",
       "        34.65267842,  42.72231993,  25.1755637 ,  33.53907386,\n",
       "        61.86196447, 102.2047711 ,  46.14828155,  32.79531097,\n",
       "        47.11596062, 112.09717853, 170.50524215, 107.57339396,\n",
       "       100.32221325,  50.99095161,  51.3226529 ,  50.78546864,\n",
       "       101.92813596,  40.88089862, 119.15144473,  46.66383717,\n",
       "        45.71724421,  91.54622724,  32.73541895,  90.36107021,\n",
       "        28.23860517, 110.62007145, 114.946432  ,  35.94529859,\n",
       "       108.56274555,  74.32875236, 116.17258292, 157.8621423 ,\n",
       "        50.29552771,  73.49633258,  90.47769631, 132.5278612 ,\n",
       "        32.91301608,  25.67583554,  50.17058857,  23.31608574,\n",
       "        84.72854332,  34.5643503 ,  96.77162497,  57.90691008,\n",
       "        28.81414174,  58.05963959, 114.14232196,  46.70980156,\n",
       "        53.78868348,  42.47487002,  39.36449983,  41.76920305,\n",
       "        40.98639065,  78.38458833,  51.88385255,  50.05511626,\n",
       "       138.21065786, 121.97895138,  96.99932128,  98.12948651,\n",
       "        64.06643381,  60.34502512,  30.1651332 , 165.30843376,\n",
       "       104.97992727,  45.59578331, 105.04154289, 124.31115972,\n",
       "        46.11047904,  68.07647934,  36.20343974,  45.46623095,\n",
       "       145.98096603,  81.57642793,  37.9263845 ,  43.8231065 ,\n",
       "        89.65702241,  54.41824428, 103.41988851, 113.60060397,\n",
       "        95.08157705,  44.7982613 , 132.70822248,  87.8163881 ,\n",
       "       113.88071296,  44.70366259, 146.0765487 ,  86.86576281,\n",
       "       113.44429781, 106.61887097,  39.02305724,  41.11232687,\n",
       "       132.12488786,  36.93286667, 154.42968144,  44.69224324,\n",
       "       104.17819502,  42.27685893, 119.74711414,  57.85224957,\n",
       "       135.35318445, 104.87885385,  50.36365127,  63.12176887,\n",
       "        28.74782244,  34.62821142,  47.88098655,  98.25363379,\n",
       "        94.22914407,  75.98890824,  68.66531302,  44.37653139,\n",
       "        69.98423827,  41.56522523,  30.15419077,  33.74771189,\n",
       "       106.05284343,  41.49122892, 119.17989107,  76.12045105,\n",
       "       128.18234752,  94.03782422,  29.33317517,  78.33289838,\n",
       "        41.18769582,  37.10545028,  33.38797896, 114.7040166 ,\n",
       "        46.18486525,  48.26946622,  34.15191642,  90.11972384,\n",
       "        38.68848945,  33.19395301,  35.44884111,  39.54614253,\n",
       "       169.75685231, 125.07864206,  59.7021527 , 100.02654417,\n",
       "       144.88393111,  46.77274862, 178.31861859,  98.40546966,\n",
       "       133.38748391,  52.92536717, 100.27441204,  44.9066801 ,\n",
       "        80.52094029,  26.76469031, 100.20470252,  83.07671067,\n",
       "        36.1161077 , 129.42119087, 131.27766356,  56.15355541,\n",
       "       110.84514982, 107.00043537, 134.07821261,  95.23713479,\n",
       "        40.10127194,  49.51960299, 130.50373163,  60.21233642,\n",
       "        42.15087698,  50.06705834, 120.85375812,  57.40720135,\n",
       "       125.64384977,  61.91831017,  99.76739747,  33.82106496,\n",
       "       114.64970305, 101.33033055,  50.93832419,  91.31595593,\n",
       "        42.76561666, 108.6965051 ,  45.94584659,  35.57864718,\n",
       "       125.80908661,  31.54638605,  52.73819655, 101.85695513,\n",
       "        41.34349159, 129.20327177,  48.62717612, 114.36830945,\n",
       "        45.67456811,  92.98587857,  51.84659886,  39.2675599 ,\n",
       "        96.04345342,  31.7036643 ,  63.32220836,  66.05630165,\n",
       "        48.41180571,  45.95942845,  47.28779582,  48.96046835,\n",
       "       148.90978983,  45.25002625,  86.55589792,  40.44004458,\n",
       "        34.69066933, 107.72751342, 124.8450371 ,  73.23563495,\n",
       "        89.66188495,  31.52193976, 110.18294518, 114.62070553,\n",
       "        39.49941211, 140.25723074, 108.64880441, 103.19005108,\n",
       "       107.08036135, 118.13765539,  92.13837784,  53.76531701,\n",
       "        45.55986317, 114.34217269,  42.69020422,  48.69962101,\n",
       "        46.11660518,  45.21943384,  54.51070933, 141.37513642,\n",
       "        57.26230006,  46.61803421,  97.18887235, 107.48152763,\n",
       "       131.94026452, 146.86193833,  37.06909332,  30.43544429,\n",
       "        78.28708439,  55.7782268 , 143.7797813 , 102.40211656,\n",
       "        26.04874204,  43.36322919,  97.34563986, 123.72965965,\n",
       "        46.00675334,  44.67126275,  97.38763883,  95.85398585,\n",
       "        98.23189734, 103.05433179,  29.91602929,  37.73905415,\n",
       "        38.25696252, 156.18862346,  86.88804182,  54.77841641,\n",
       "        50.31126604,  44.90357756,  44.94036724,  44.01970348,\n",
       "        27.6358886 ,  41.12870247,  51.15136536,  28.63316335,\n",
       "       125.59906789, 113.45184621,  90.16518739, 148.52656165,\n",
       "        32.83845028,  94.39613063,  38.43530649, 113.71546169,\n",
       "       126.47148662,  79.66550121,  97.02179635,  78.07364431,\n",
       "        59.98701351, 113.62288275, 142.71187527,  42.39707592,\n",
       "        26.65732864,  91.74447181,  35.62580203,  41.18843702,\n",
       "        53.92063653,  91.04443206,  29.33758844,  93.74472156,\n",
       "       104.6254299 ,  64.77508853,  40.13451529,  46.01513572,\n",
       "        65.28376648,  41.69084556,  92.07910684, 115.77710004,\n",
       "        79.96097504, 143.66688541,  52.99072758,  40.22658112,\n",
       "        54.59353735, 106.32796237,  33.16019087,  39.16417344,\n",
       "        88.75583854, 120.92325706,  45.91944325,  38.29717466,\n",
       "        45.85703349,  44.71062818, 120.10951813, 118.29680292,\n",
       "        47.01889938,  31.39993133,  34.94616898,  43.26887211,\n",
       "        93.87522211, 154.80450304,  56.849323  ,  58.64773081,\n",
       "       128.85954769,  48.70218818,  90.31336191,  88.76653513,\n",
       "        44.90657311, 156.63864732,  98.4200876 ,  62.24790673,\n",
       "        44.29302797,  53.13042238, 109.6001028 ,  45.27432402,\n",
       "       126.22144438,  60.93129631,  78.23631418,  46.7383424 ,\n",
       "        39.29737614, 120.51810561,  38.46447739,  33.62795128,\n",
       "       117.72660877,  22.84164238, 110.8865355 ,  96.41223657,\n",
       "       100.76496795,  39.06053992,  42.13693978,  32.44522084,\n",
       "       170.28038021, 105.52613627, 106.38024477,  39.7414845 ,\n",
       "        89.69756911,  55.1547017 , 114.64970305,  96.96485724,\n",
       "        46.20069303,  38.02409486,  32.10407532, 117.76023528,\n",
       "        50.79486355,  90.15544861,  38.1749669 ,  49.6836047 ,\n",
       "        33.72379109,  99.13675651,  98.66406005,  29.34075436,\n",
       "        45.04440488,  25.44936352,  34.28556895,  41.41456065,\n",
       "        51.44151968,  70.88482718, 124.2958956 ,  68.29027543,\n",
       "       108.66668452,  39.32791911, 120.19869018, 114.17153028,\n",
       "       171.81040919, 116.67280691,  52.54533104, 135.63530464,\n",
       "        49.10822402,  33.94907769,  44.67080786,  50.17529783,\n",
       "       104.66351499, 102.86639146,  44.79934196, 109.35248302,\n",
       "        47.71645347,  65.07999319,  38.36172766,  36.75427658,\n",
       "        46.41925606,  38.02958862, 124.91154017,  39.2318369 ,\n",
       "       160.52622072, 105.39790416,  46.50336521,  34.19152769,\n",
       "        88.68181854,  40.96354132,  73.39848173, 111.89557889,\n",
       "        48.29225696, 126.20511753,  44.10718376,  52.87402271,\n",
       "       142.52189949,  95.86996687,  92.11790743, 108.9040853 ,\n",
       "        95.0414322 ,  23.62714769,  38.59697059,  38.23356861,\n",
       "        96.26124812, 123.24990726,  35.28028815,  33.10313288,\n",
       "        88.36225493,  47.24611113,  87.92275224,  42.33510946,\n",
       "        33.98653899,  47.03935544,  40.00059523, 116.73991244,\n",
       "        41.17487274, 120.46825586,  35.26281669, 121.16029913,\n",
       "       101.95448786,  41.08198325, 120.50256945,  37.51399062,\n",
       "        75.72262858,  32.25516943,  49.82737366, 117.36004202,\n",
       "       121.86519505,  36.79695168,  97.46551677, 122.65928129,\n",
       "        47.82684831,  82.95130916,  47.25026767,  48.22217376,\n",
       "        37.00591392,  62.35508377, 144.35969179,  49.76758728,\n",
       "        99.62215005,  36.79048824, 106.42857511,  33.57212842,\n",
       "        27.97513638, 131.69337825,  32.28030921,  50.48164755,\n",
       "        44.35418705,  48.55572691,  34.13723697,  56.18214589,\n",
       "       103.30905541,  37.95402422,  30.68073282,  91.91766902,\n",
       "       116.22714869,  94.41784033,  50.52038251,  45.19628997,\n",
       "        41.11133065,  91.3315859 , 118.87922286, 104.49914971,\n",
       "        36.95385846, 116.09067001,  50.02080914,  47.87655514,\n",
       "        64.84791742,  77.85799229,  31.54509805, 121.51605538,\n",
       "        91.80509069,  56.05369896,  42.15878704,  44.44450146,\n",
       "       106.21755242,  29.00493177,  48.09115608,  36.88593386,\n",
       "       102.99503439,  55.90473326,  40.95867639,  52.60235444,\n",
       "       105.82351592,  44.8781233 , 110.16917168,  45.40629724,\n",
       "        97.8696693 , 180.69061334,  79.98982409,  57.53124579,\n",
       "        36.93753475,  92.40123512,  90.61981357, 155.28771937,\n",
       "       129.03756814, 106.03222239,  68.7135883 , 136.48168961,\n",
       "        46.60677262,  96.59152798, 134.02723979,  94.29291744,\n",
       "        54.91295794,  94.62666289, 132.23115141, 104.78868284,\n",
       "        35.34964341, 100.93855645, 117.47943937,  96.19965979,\n",
       "        39.86879052, 108.13268467, 107.7155609 ,  45.68150649,\n",
       "       125.6118089 ,  41.85099258, 135.99922737,  40.11874867,\n",
       "        32.75325464, 115.55502336,  95.98570982,  91.02630255,\n",
       "       110.70191406,  78.37909641, 110.95204301,  43.96979805,\n",
       "       120.4468177 , 127.1038795 , 103.39812218,  35.52360755,\n",
       "        32.86039421,  45.85497158,  32.75849835,  33.67967518,\n",
       "       129.86071982, 116.9298332 ,  45.10859751,  62.92951125,\n",
       "       151.01305726,  43.40844127,  93.08744279,  43.3026272 ,\n",
       "        44.44124004,  44.75989664,  95.01639397,  32.19552985,\n",
       "        25.60495595, 109.56100584, 127.97521089,  33.87004022,\n",
       "        56.67097902,  48.68271489,  38.86134578,  32.68675685,\n",
       "        52.7694032 ,  46.23410506, 110.14963759,  32.2266223 ,\n",
       "       111.5843134 ,  29.09958821,  52.18843184, 105.29675874,\n",
       "       110.39190829,  44.29630965,  97.60997717,  37.10977198,\n",
       "        32.67095192, 110.28677414,  23.35061331,  38.94334995,\n",
       "        45.61266957, 140.22688118,  35.79639162, 123.56929768,\n",
       "        50.72921204, 109.18655139, 140.19393018,  86.14358659,\n",
       "       128.90680157, 107.98455752, 155.68601096,  40.13183925,\n",
       "       120.7505065 ,  38.62516167,  58.19208778,  51.23528505,\n",
       "        47.25013279, 142.5184711 , 102.07599027,  96.1952453 ,\n",
       "        34.08993159,  62.30486298, 125.58440554, 100.485286  ,\n",
       "        34.4959535 , 127.51084057, 101.58097077,  80.29086677,\n",
       "        56.03859554,  40.92445254, 116.04942132, 129.81554983,\n",
       "        95.63619953,  45.99051267, 100.73712352,  47.35490522,\n",
       "        47.36949006,  44.8862865 ,  79.22134459,  45.00651438,\n",
       "       131.64531659,  38.57608122,  47.25362109,  47.22509627,\n",
       "       101.19054321])"
      ]
     },
     "execution_count": 38,
     "metadata": {},
     "output_type": "execute_result"
    }
   ],
   "source": [
    "# se le pasa xtest al modelo para arrojar primeras predicciones\n",
    "ypred = regressor_svr.predict(xtest_london)\n",
    "ypred"
   ]
  },
  {
   "cell_type": "code",
   "execution_count": 39,
   "metadata": {},
   "outputs": [
    {
     "data": {
      "text/plain": [
       "36.99809438509309"
      ]
     },
     "execution_count": 39,
     "metadata": {},
     "output_type": "execute_result"
    }
   ],
   "source": [
    "# MSE del modelo comparando predicciones con ytest\n",
    "np.sqrt(mean_squared_error(ytest, ypred))"
   ]
  },
  {
   "cell_type": "markdown",
   "metadata": {
    "id": "IJQSlAT_kuYH"
   },
   "source": [
    "##### **Objetivo 12**\n",
    "Repetir el objetivo 10 pero ahora seteando nuevos valores para los hiperparámetros mencionados con el objetivo de mejorar las predicciones.\n",
    "\n",
    "Cuales son los mejores hiperparámetros ahora?\n",
    "Obtenemos una mejora en las predicciones?\n",
    "Mostrar los resultados."
   ]
  },
  {
   "cell_type": "code",
   "execution_count": 40,
   "metadata": {},
   "outputs": [],
   "source": [
    "# se define nuevo diccionario de parámetros para pasar al gridsearchCV, probando en un rango cercano a los mejores hiperparam.\n",
    "# definidos en el primer gridsearch, y cambiando el kernel sigmoide por uno polinomial\n",
    "param_svreg2 = { 'kernel': ('rbf', 'poly'),\n",
    "                     'C': [50, 100, 200],\n",
    "                 'gamma': [0.05, 0.1, 0.5]}"
   ]
  },
  {
   "cell_type": "code",
   "execution_count": 41,
   "metadata": {
    "id": "WyMHn-XYn5Uv"
   },
   "outputs": [],
   "source": [
    "# nuevo gridsearch cross-validation utilizando Support vector regressor de estimador + hiperparámetros definidos en ultima celda\n",
    "regressor_svr2 = GridSearchCV(SVR(), param_svreg2, cv=5, refit=True, verbose=3)"
   ]
  },
  {
   "cell_type": "code",
   "execution_count": 42,
   "metadata": {
    "id": "GyUOMDd7kuYI"
   },
   "outputs": [
    {
     "name": "stdout",
     "output_type": "stream",
     "text": [
      "Fitting 5 folds for each of 18 candidates, totalling 90 fits\n",
      "[CV 1/5] END ......C=50, gamma=0.05, kernel=rbf;, score=0.503 total time=   0.3s\n",
      "[CV 2/5] END ......C=50, gamma=0.05, kernel=rbf;, score=0.519 total time=   0.3s\n",
      "[CV 3/5] END ......C=50, gamma=0.05, kernel=rbf;, score=0.520 total time=   0.3s\n",
      "[CV 4/5] END ......C=50, gamma=0.05, kernel=rbf;, score=0.532 total time=   0.3s\n",
      "[CV 5/5] END ......C=50, gamma=0.05, kernel=rbf;, score=0.478 total time=   0.3s\n",
      "[CV 1/5] END .....C=50, gamma=0.05, kernel=poly;, score=0.074 total time=   0.1s\n",
      "[CV 2/5] END .....C=50, gamma=0.05, kernel=poly;, score=0.255 total time=   0.2s\n",
      "[CV 3/5] END .....C=50, gamma=0.05, kernel=poly;, score=0.204 total time=   0.2s\n",
      "[CV 4/5] END .....C=50, gamma=0.05, kernel=poly;, score=0.216 total time=   0.2s\n",
      "[CV 5/5] END .....C=50, gamma=0.05, kernel=poly;, score=0.232 total time=   0.2s\n",
      "[CV 1/5] END .......C=50, gamma=0.1, kernel=rbf;, score=0.504 total time=   0.3s\n",
      "[CV 2/5] END .......C=50, gamma=0.1, kernel=rbf;, score=0.502 total time=   0.3s\n",
      "[CV 3/5] END .......C=50, gamma=0.1, kernel=rbf;, score=0.519 total time=   0.3s\n",
      "[CV 4/5] END .......C=50, gamma=0.1, kernel=rbf;, score=0.541 total time=   0.3s\n",
      "[CV 5/5] END .......C=50, gamma=0.1, kernel=rbf;, score=0.481 total time=   0.3s\n",
      "[CV 1/5] END ......C=50, gamma=0.1, kernel=poly;, score=0.203 total time=   0.2s\n",
      "[CV 2/5] END ......C=50, gamma=0.1, kernel=poly;, score=0.446 total time=   0.3s\n",
      "[CV 3/5] END ......C=50, gamma=0.1, kernel=poly;, score=0.322 total time=   0.2s\n",
      "[CV 4/5] END ......C=50, gamma=0.1, kernel=poly;, score=0.356 total time=   0.2s\n",
      "[CV 5/5] END ......C=50, gamma=0.1, kernel=poly;, score=0.393 total time=   0.3s\n",
      "[CV 1/5] END .......C=50, gamma=0.5, kernel=rbf;, score=0.462 total time=   0.4s\n",
      "[CV 2/5] END .......C=50, gamma=0.5, kernel=rbf;, score=0.441 total time=   0.4s\n",
      "[CV 3/5] END .......C=50, gamma=0.5, kernel=rbf;, score=0.449 total time=   0.4s\n",
      "[CV 4/5] END .......C=50, gamma=0.5, kernel=rbf;, score=0.500 total time=   0.4s\n",
      "[CV 5/5] END .......C=50, gamma=0.5, kernel=rbf;, score=0.446 total time=   0.4s\n",
      "[CV 1/5] END .....C=50, gamma=0.5, kernel=poly;, score=-6.115 total time=  32.8s\n",
      "[CV 2/5] END .....C=50, gamma=0.5, kernel=poly;, score=-2.374 total time=  23.9s\n",
      "[CV 3/5] END .....C=50, gamma=0.5, kernel=poly;, score=-0.234 total time=  24.2s\n",
      "[CV 4/5] END .....C=50, gamma=0.5, kernel=poly;, score=-0.116 total time=  31.8s\n",
      "[CV 5/5] END ......C=50, gamma=0.5, kernel=poly;, score=0.024 total time=  37.5s\n",
      "[CV 1/5] END .....C=100, gamma=0.05, kernel=rbf;, score=0.509 total time=   0.3s\n",
      "[CV 2/5] END .....C=100, gamma=0.05, kernel=rbf;, score=0.513 total time=   0.3s\n",
      "[CV 3/5] END .....C=100, gamma=0.05, kernel=rbf;, score=0.521 total time=   0.3s\n",
      "[CV 4/5] END .....C=100, gamma=0.05, kernel=rbf;, score=0.542 total time=   0.3s\n",
      "[CV 5/5] END .....C=100, gamma=0.05, kernel=rbf;, score=0.483 total time=   0.3s\n",
      "[CV 1/5] END ....C=100, gamma=0.05, kernel=poly;, score=0.061 total time=   0.2s\n",
      "[CV 2/5] END ....C=100, gamma=0.05, kernel=poly;, score=0.343 total time=   0.2s\n",
      "[CV 3/5] END ....C=100, gamma=0.05, kernel=poly;, score=0.266 total time=   0.2s\n",
      "[CV 4/5] END ....C=100, gamma=0.05, kernel=poly;, score=0.262 total time=   0.2s\n",
      "[CV 5/5] END ....C=100, gamma=0.05, kernel=poly;, score=0.298 total time=   0.2s\n",
      "[CV 1/5] END ......C=100, gamma=0.1, kernel=rbf;, score=0.502 total time=   0.3s\n",
      "[CV 2/5] END ......C=100, gamma=0.1, kernel=rbf;, score=0.486 total time=   0.4s\n",
      "[CV 3/5] END ......C=100, gamma=0.1, kernel=rbf;, score=0.504 total time=   0.4s\n",
      "[CV 4/5] END ......C=100, gamma=0.1, kernel=rbf;, score=0.549 total time=   0.4s\n",
      "[CV 5/5] END ......C=100, gamma=0.1, kernel=rbf;, score=0.491 total time=   0.4s\n",
      "[CV 1/5] END .....C=100, gamma=0.1, kernel=poly;, score=0.116 total time=   0.3s\n",
      "[CV 2/5] END .....C=100, gamma=0.1, kernel=poly;, score=0.450 total time=   0.4s\n",
      "[CV 3/5] END .....C=100, gamma=0.1, kernel=poly;, score=0.320 total time=   0.3s\n",
      "[CV 4/5] END .....C=100, gamma=0.1, kernel=poly;, score=0.333 total time=   0.3s\n",
      "[CV 5/5] END .....C=100, gamma=0.1, kernel=poly;, score=0.412 total time=   0.3s\n",
      "[CV 1/5] END ......C=100, gamma=0.5, kernel=rbf;, score=0.453 total time=   0.5s\n",
      "[CV 2/5] END ......C=100, gamma=0.5, kernel=rbf;, score=0.429 total time=   0.5s\n",
      "[CV 3/5] END ......C=100, gamma=0.5, kernel=rbf;, score=0.417 total time=   0.5s\n",
      "[CV 4/5] END ......C=100, gamma=0.5, kernel=rbf;, score=0.477 total time=   0.5s\n",
      "[CV 5/5] END ......C=100, gamma=0.5, kernel=rbf;, score=0.438 total time=   0.5s\n",
      "[CV 1/5] END ...C=100, gamma=0.5, kernel=poly;, score=-15.227 total time=  57.7s\n",
      "[CV 2/5] END ...C=100, gamma=0.5, kernel=poly;, score=-13.110 total time= 1.2min\n",
      "[CV 3/5] END ....C=100, gamma=0.5, kernel=poly;, score=-0.440 total time=  43.8s\n",
      "[CV 4/5] END ....C=100, gamma=0.5, kernel=poly;, score=-0.473 total time= 1.5min\n",
      "[CV 5/5] END ....C=100, gamma=0.5, kernel=poly;, score=-0.257 total time= 2.2min\n",
      "[CV 1/5] END .....C=200, gamma=0.05, kernel=rbf;, score=0.508 total time=   0.4s\n",
      "[CV 2/5] END .....C=200, gamma=0.05, kernel=rbf;, score=0.503 total time=   0.5s\n",
      "[CV 3/5] END .....C=200, gamma=0.05, kernel=rbf;, score=0.516 total time=   0.4s\n",
      "[CV 4/5] END .....C=200, gamma=0.05, kernel=rbf;, score=0.552 total time=   0.4s\n",
      "[CV 5/5] END .....C=200, gamma=0.05, kernel=rbf;, score=0.492 total time=   0.4s\n",
      "[CV 1/5] END ....C=200, gamma=0.05, kernel=poly;, score=0.100 total time=   0.2s\n",
      "[CV 2/5] END ....C=200, gamma=0.05, kernel=poly;, score=0.411 total time=   0.3s\n",
      "[CV 3/5] END ....C=200, gamma=0.05, kernel=poly;, score=0.307 total time=   0.2s\n",
      "[CV 4/5] END ....C=200, gamma=0.05, kernel=poly;, score=0.324 total time=   0.4s\n",
      "[CV 5/5] END ....C=200, gamma=0.05, kernel=poly;, score=0.358 total time=   0.2s\n",
      "[CV 1/5] END ......C=200, gamma=0.1, kernel=rbf;, score=0.487 total time=   0.5s\n",
      "[CV 2/5] END ......C=200, gamma=0.1, kernel=rbf;, score=0.461 total time=   0.4s\n",
      "[CV 3/5] END ......C=200, gamma=0.1, kernel=rbf;, score=0.488 total time=   0.7s\n",
      "[CV 4/5] END ......C=200, gamma=0.1, kernel=rbf;, score=0.545 total time=   0.5s\n",
      "[CV 5/5] END ......C=200, gamma=0.1, kernel=rbf;, score=0.492 total time=   0.6s\n",
      "[CV 1/5] END ....C=200, gamma=0.1, kernel=poly;, score=-0.692 total time=   0.7s\n",
      "[CV 2/5] END .....C=200, gamma=0.1, kernel=poly;, score=0.443 total time=   0.7s\n",
      "[CV 3/5] END .....C=200, gamma=0.1, kernel=poly;, score=0.268 total time=   0.8s\n",
      "[CV 4/5] END .....C=200, gamma=0.1, kernel=poly;, score=0.275 total time=   0.6s\n",
      "[CV 5/5] END .....C=200, gamma=0.1, kernel=poly;, score=0.423 total time=   0.7s\n",
      "[CV 1/5] END ......C=200, gamma=0.5, kernel=rbf;, score=0.425 total time=   0.6s\n",
      "[CV 2/5] END ......C=200, gamma=0.5, kernel=rbf;, score=0.398 total time=   0.6s\n",
      "[CV 3/5] END ......C=200, gamma=0.5, kernel=rbf;, score=0.374 total time=   0.6s\n",
      "[CV 4/5] END ......C=200, gamma=0.5, kernel=rbf;, score=0.431 total time=   0.6s\n",
      "[CV 5/5] END ......C=200, gamma=0.5, kernel=rbf;, score=0.422 total time=   0.6s\n",
      "[CV 1/5] END ...C=200, gamma=0.5, kernel=poly;, score=-21.641 total time= 2.7min\n",
      "[CV 2/5] END ...C=200, gamma=0.5, kernel=poly;, score=-42.200 total time= 3.0min\n",
      "[CV 3/5] END ....C=200, gamma=0.5, kernel=poly;, score=-0.729 total time= 2.2min\n",
      "[CV 4/5] END ....C=200, gamma=0.5, kernel=poly;, score=-1.437 total time= 2.0min\n",
      "[CV 5/5] END ....C=200, gamma=0.5, kernel=poly;, score=-0.411 total time= 2.8min\n"
     ]
    },
    {
     "data": {
      "text/plain": [
       "GridSearchCV(cv=5, estimator=SVR(),\n",
       "             param_grid={'C': [50, 100, 200], 'gamma': [0.05, 0.1, 0.5],\n",
       "                         'kernel': ('rbf', 'poly')},\n",
       "             verbose=3)"
      ]
     },
     "execution_count": 42,
     "metadata": {},
     "output_type": "execute_result"
    }
   ],
   "source": [
    "# se entrena modelo\n",
    "regressor_svr2.fit(xtrain_london, ytrain.ravel())"
   ]
  },
  {
   "cell_type": "code",
   "execution_count": 43,
   "metadata": {},
   "outputs": [
    {
     "data": {
      "text/plain": [
       "{'C': 200, 'gamma': 0.05, 'kernel': 'rbf'}"
      ]
     },
     "execution_count": 43,
     "metadata": {},
     "output_type": "execute_result"
    }
   ],
   "source": [
    "# se imprimen mejores hiperparámetros, en el que el mejor kernel sigue siendo el RBF, con un gamma y C que toman nuevos valores\n",
    "regressor_svr2.best_params_"
   ]
  },
  {
   "cell_type": "code",
   "execution_count": 44,
   "metadata": {},
   "outputs": [
    {
     "data": {
      "text/plain": [
       "0.5141935566532634"
      ]
     },
     "execution_count": 44,
     "metadata": {},
     "output_type": "execute_result"
    }
   ],
   "source": [
    "# se imprime r2 obtenido con los mismos\n",
    "regressor_svr2.best_score_"
   ]
  },
  {
   "cell_type": "code",
   "execution_count": 45,
   "metadata": {},
   "outputs": [
    {
     "data": {
      "text/plain": [
       "array([101.54157333, 124.82438978, 114.79323044,  39.98987594,\n",
       "       110.53598493,  51.18290197,  47.42793914,  40.50676559,\n",
       "        43.56333379,  91.01973472,  45.0832289 ,  40.0987984 ,\n",
       "        86.39948796,  42.27629123,  83.26766634,  96.16388047,\n",
       "        28.36867123,  43.41694694,  97.35477546,  46.35723083,\n",
       "        40.89804694, 111.00400825, 136.6287249 , 131.76213922,\n",
       "        48.60694505,  50.58745891, 100.05106744,  38.23687236,\n",
       "        58.82620373, 129.83062714, 124.05011908, 101.32806143,\n",
       "        96.09159559,  73.02589274, 171.00751851, 123.2025253 ,\n",
       "        31.31670617,  90.02548643, 101.85128576,  47.05876598,\n",
       "        36.61081439,  39.81390306,  29.29612013, 143.3590543 ,\n",
       "       109.51040757, 133.69682955, 111.87358031,  91.93362677,\n",
       "        96.4288134 ,  39.66978889,  81.14513081, 129.088039  ,\n",
       "       112.99792537,  44.19374909, 138.29305199,  96.27986134,\n",
       "       135.49186863, 112.52122636,  45.31561268,  30.58045316,\n",
       "        92.71493091, 117.16198817,  53.23344029, 111.02895996,\n",
       "        75.2424684 ,  49.97389469,  41.58188604,  39.23215939,\n",
       "        99.20782253,  40.4082011 ,  48.69805413,  29.58172635,\n",
       "        43.20780368,  65.33278118,  57.99335953,  45.00321798,\n",
       "        44.18059629, 119.63214563, 110.30361465,  40.63389967,\n",
       "        40.2364581 ,  35.70651614, 111.88275923,  80.23193738,\n",
       "       130.01502737,  81.88486358,  99.41481689, 101.96873745,\n",
       "        65.33399157,  39.41570607, 106.12233628,  91.18611907,\n",
       "        31.19207821, 131.11239109,  49.10310847,  93.01253345,\n",
       "        25.23529779, 103.66691601,  52.16083065,  35.94869797,\n",
       "       111.77005503, 116.75391515, 109.04525292, 110.89695716,\n",
       "        29.48911864,  95.43204341,  35.76130787,  22.5736131 ,\n",
       "        43.11972684,  48.27643982,  45.82495474, 101.97000169,\n",
       "        94.0760005 ,  52.64545337, 152.40636445,  96.16954867,\n",
       "        34.9358389 ,  35.00676707,  30.256519  ,  86.08792487,\n",
       "       117.78090408,  42.91687096,  24.35673387,  39.0589071 ,\n",
       "        32.87915148,  86.35044306, 122.54881773,  95.04082526,\n",
       "       123.02465332, 115.34526803,  49.05257206,  20.70562262,\n",
       "        90.36918031,  44.33173256, 129.86488866,  93.43257523,\n",
       "       152.34982186, 128.76629719,  31.83329026,  31.57980641,\n",
       "        58.53216794, 166.56805183,  92.68248913,  47.99024908,\n",
       "       108.46584296, 114.84677672,  49.51854387, 108.70008206,\n",
       "        51.56718009, 111.54259438, 135.03351522,  50.46407455,\n",
       "        60.51364239, 109.95506581,  45.12213216,  52.1229527 ,\n",
       "        37.70897749,  37.85378322, 107.28268386,  58.95208111,\n",
       "       123.54881098,  92.30347037, 113.39146669,  61.82425842,\n",
       "       134.87003098,  46.19412799,  48.42133331,  40.90327093,\n",
       "        28.18594795,  45.24173111, 124.54343064,  99.88533875,\n",
       "       121.73798167,  97.21179164, 130.91403637,  28.27074092,\n",
       "        77.84076485,  27.08453781,  27.65858899, 116.37956357,\n",
       "        55.07410511,  55.44603614,  61.61657006,  93.65804742,\n",
       "       129.98339601,  36.51278972, 121.83199246, 144.65846894,\n",
       "       110.8469748 ,  34.50022584,  67.92501615, 111.55026474,\n",
       "        64.17466793, 103.57306411,  57.64847231,  93.48838235,\n",
       "        86.4328511 ,  42.28836347, 134.94788665,  94.31993185,\n",
       "        95.11007574,  44.74220501,  39.20070652,  47.86007844,\n",
       "        89.29736413,  45.1706259 ,  55.85795966, 114.19773171,\n",
       "        98.53199696,  41.97841121, 122.50800032,  24.07814151,\n",
       "        41.6854073 ,  99.09812752, 107.9632883 ,  43.47362012,\n",
       "        30.1053908 ,  41.3209705 ,  24.54043077,  33.55877025,\n",
       "        62.17635556, 101.77694303,  47.5239327 ,  27.0265546 ,\n",
       "        48.52926224, 111.16463317, 179.74465403, 106.4109937 ,\n",
       "       100.20875255,  50.81715974,  53.39258773,  49.02264576,\n",
       "        95.45558239,  40.82257228, 126.48031863,  46.016343  ,\n",
       "        47.27139084,  92.20382204,  32.90111222,  88.27311916,\n",
       "        28.78759071, 111.83652637, 117.34300312,  39.82377731,\n",
       "       109.73680756,  71.36150928, 114.8741765 , 154.82336588,\n",
       "        40.78728283,  70.15646069,  88.28366825, 130.51274797,\n",
       "        30.77893752,  25.77701661,  55.94701228,  22.72498083,\n",
       "        86.12532199,  35.24851689,  97.06848273,  56.7699242 ,\n",
       "        32.14423665,  56.38941262, 109.66488599,  46.95539508,\n",
       "        54.76243074,  41.80695023,  38.65215924,  41.49280286,\n",
       "        38.42779319,  79.34018311,  52.31511511,  49.63722651,\n",
       "       140.86452279, 130.82456818,  94.30702778,  90.69854624,\n",
       "        63.16624657,  59.86434033,  30.11684622, 168.12509392,\n",
       "       107.85082486,  43.7363101 , 107.37778545, 126.78487518,\n",
       "        47.74385238,  65.5042626 ,  37.5160471 ,  45.44550061,\n",
       "       147.92656025,  80.86744761,  38.38080074,  46.80697307,\n",
       "        89.8563338 ,  51.70039396, 105.6179915 , 118.59636993,\n",
       "        94.35594586,  44.5767435 , 152.75691062,  87.07157052,\n",
       "       121.02968292,  43.5094333 , 153.54539016,  86.41719071,\n",
       "       125.21269619, 107.65945915,  40.67516187,  43.23982414,\n",
       "       132.87350638,  37.06073119, 150.98590973,  44.41237343,\n",
       "       109.17959104,  42.17025304, 117.00899237,  58.73930352,\n",
       "       133.1138852 , 104.86788125,  50.85365211,  64.66476741,\n",
       "        29.76832983,  34.61625389,  47.11291333, 100.14183498,\n",
       "       102.18788254,  75.86069287,  72.74346036,  43.13984308,\n",
       "        70.03389558,  45.01354094,  19.84390651,  34.34543029,\n",
       "       104.19097111,  41.0429164 , 125.46743652,  75.34351367,\n",
       "       136.03089486,  94.60118107,  29.48565423,  79.71676201,\n",
       "        42.18676362,  37.6212414 ,  34.29425213, 115.62468241,\n",
       "        42.57448417,  48.41144039,  34.30221119,  90.04196525,\n",
       "        40.08825354,  33.57520042,  36.36736861,  38.69301711,\n",
       "       171.37662624, 124.07243674,  61.57898006,  99.7149129 ,\n",
       "       148.81026606,  47.10260493, 178.81605324,  97.2942569 ,\n",
       "       132.54282482,  52.70549997, 100.18487311,  44.94844306,\n",
       "        81.6370716 ,  26.51180406,  97.88728262,  83.18033915,\n",
       "        35.73227516, 138.77664305, 132.97206347,  52.08581201,\n",
       "       108.18761427, 103.98054659, 141.9940322 ,  93.44280014,\n",
       "        39.19073793,  49.28013823, 126.01865792,  60.65097385,\n",
       "        40.11673498,  50.58771156, 126.31305225,  57.5349207 ,\n",
       "       127.71151167,  60.73743598,  99.10415092,  33.54203963,\n",
       "       114.73535569, 102.21027324,  50.56836662,  93.52681066,\n",
       "        41.66323628, 108.23548896,  45.35180009,  36.08634974,\n",
       "       124.66940711,  31.50826212,  51.58652282, 104.46771704,\n",
       "        43.59223091, 129.09220582,  42.83337266, 116.5351209 ,\n",
       "        45.0598856 ,  93.47570359,  53.82395632,  39.78888617,\n",
       "        98.22390287,  31.51426685,  51.85233944,  64.95392883,\n",
       "        48.41663357,  45.25826963,  42.1093119 ,  49.55527841,\n",
       "       155.4204924 ,  46.10577673,  81.02246128,  42.0660092 ,\n",
       "        30.38059697, 107.41846367, 125.33745499,  70.3459826 ,\n",
       "        88.45455798,  17.8695482 , 109.70986721, 119.06389445,\n",
       "        38.78290858, 140.81439421, 105.15730496, 101.27705009,\n",
       "       106.02238791, 116.62682118,  93.38296104,  53.71637128,\n",
       "        45.63094895, 111.51396907,  41.5627169 ,  49.74664089,\n",
       "        45.61716924,  44.4814121 ,  54.13249607, 139.35406748,\n",
       "        56.2052449 ,  47.92731412,  98.69677347, 106.98671319,\n",
       "       137.39455945, 154.87005672,  36.92656714,  25.02645337,\n",
       "        76.32667493,  56.04183066, 151.33244558, 102.32216225,\n",
       "        25.07750163,  44.53734727,  97.75987563, 120.95425195,\n",
       "        46.32545262,  45.31493746,  97.63568753,  94.37560655,\n",
       "        93.84334751, 102.49161559,  29.29636276,  38.91977281,\n",
       "        39.75574601, 167.20190798,  85.16052451,  55.42104595,\n",
       "        37.90075476,  44.16438146,  38.4269875 ,  43.79099696,\n",
       "        24.73273673,  42.26255657,  51.64384784,  23.58264906,\n",
       "       125.59677658, 113.91847468,  86.29328534, 157.50069774,\n",
       "        34.03029346,  93.60328409,  38.07703247, 116.44093038,\n",
       "       126.22468925,  77.77226405,  96.24849883,  79.71162733,\n",
       "        59.77479305, 114.61747055, 142.2914117 ,  41.82758527,\n",
       "        28.81997742,  90.91098289,  36.38678064,  40.96317549,\n",
       "        51.98988192,  88.54025076,  18.58231892,  95.7458546 ,\n",
       "       107.23754413,  61.77330322,  40.09043197,  46.57402212,\n",
       "        64.04240894,  41.87905424,  92.75528174, 113.26875197,\n",
       "        78.35714728, 145.90211794,  58.57723864,  41.67179796,\n",
       "        53.16810721, 106.35566762,  36.29248642,  39.55655764,\n",
       "        90.9559047 , 119.71058393,  45.05317567,  37.745076  ,\n",
       "        46.02642765,  48.25164378, 118.30399671, 119.96164793,\n",
       "        49.6401184 ,  31.52047571,  33.04087607,  42.98234792,\n",
       "        89.74719949, 157.65516119,  56.67080217,  58.82221103,\n",
       "       128.06098185,  52.52073702,  94.69275986,  87.73058407,\n",
       "        44.43289492, 153.64508641,  97.75155841,  61.82649367,\n",
       "        44.39690436,  49.96462497, 107.18367697,  44.57165342,\n",
       "       126.66645161,  58.7184943 ,  88.13408771,  46.56320384,\n",
       "        39.30256428, 122.7151564 ,  37.3683365 ,  31.89233046,\n",
       "       121.23116097,  23.58429484, 117.22218417,  97.94408589,\n",
       "        98.44540927,  37.49364   ,  42.6951984 ,  32.31773248,\n",
       "       175.13537389, 106.06981118, 108.59021679,  37.87807429,\n",
       "        82.75937106,  55.59080638, 114.73535569,  92.93521764,\n",
       "        46.24050296,  38.6702442 ,  31.73128965, 117.81504309,\n",
       "        50.92363204,  84.29077205,  38.32651461,  49.56533729,\n",
       "        33.72884152,  97.50603972,  95.92014249,  29.279947  ,\n",
       "        44.84346608,  25.6445473 ,  30.89182926,  35.83752566,\n",
       "        50.98619287,  73.70680152, 124.11718299,  64.63715684,\n",
       "       104.23000009,  38.23092732, 121.97062634, 118.77038275,\n",
       "       181.89076115, 115.72036859,  52.18976855, 153.55068663,\n",
       "        49.30341297,  32.5117187 ,  43.45644324,  49.80920573,\n",
       "       102.57539525, 102.23794631,  45.06415485, 109.91424641,\n",
       "        48.2687048 ,  62.28327846,  37.86170121,  36.90859238,\n",
       "        45.87780711,  38.53432361, 126.57829436,  38.7686029 ,\n",
       "       156.82934604, 103.82635975,  45.10057282,  33.66984445,\n",
       "        93.06751423,  41.67735902,  72.79208158, 114.95299206,\n",
       "        49.04038336, 122.50507706,  43.61468643,  51.66325783,\n",
       "       148.69619053, 103.20506867,  95.73841098, 107.88101587,\n",
       "       101.66138373,  23.9905092 ,  37.05801271,  38.67036059,\n",
       "        95.25678893, 126.74969555,  35.35597338,  34.799561  ,\n",
       "        87.40476912,  47.22469584,  88.90167611,  43.2694519 ,\n",
       "        27.29003424,  47.47929044,  39.63000479, 120.22175026,\n",
       "        42.05967847, 124.14605969,  33.22038316, 123.51244741,\n",
       "       102.37771351,  40.95953104, 119.2964351 ,  37.30851101,\n",
       "        72.82978816,  32.80345977,  50.60605659, 125.01563907,\n",
       "       124.71369066,  37.10329927,  94.21033645, 121.21675235,\n",
       "        47.86112341,  84.71077776,  46.67004396,  47.5617919 ,\n",
       "        35.05076846,  62.27885347, 144.84788513,  48.94257859,\n",
       "        98.24187211,  37.56529062, 105.32730942,  33.60984034,\n",
       "        27.23382229, 137.09447061,  31.97176563,  51.09715333,\n",
       "        44.30832645,  48.24883619,  34.04503095,  56.62715547,\n",
       "       104.19713019,  38.26757998,  30.63813324,  90.6971551 ,\n",
       "       116.24402371,  97.76184881,  49.34249445,  45.23174223,\n",
       "        40.9762763 ,  93.67845352, 120.48526767, 103.27545648,\n",
       "        37.32482042, 116.08853278,  49.84073764,  47.66113041,\n",
       "        64.96151628,  77.54370719,  32.92767079, 123.7371622 ,\n",
       "        91.21093259,  55.60903541,  41.98791117,  44.64348155,\n",
       "       106.89427464,  28.6687379 ,  47.55325951,  35.78723879,\n",
       "       100.84456762,  54.75234607,  41.67980969,  49.85403788,\n",
       "       105.19176928,  46.78174891, 110.99031522,  45.42162599,\n",
       "        97.03601679, 187.55386599,  81.49316553,  55.20290716,\n",
       "        35.92228613,  95.19156224,  79.134529  , 159.47187093,\n",
       "       135.14037485, 107.29339484,  66.17392739, 143.87398685,\n",
       "        51.40964508,  95.34874411, 140.23103342,  92.38424867,\n",
       "        56.99506418,  92.49638323, 140.81187417, 105.33146713,\n",
       "        36.29742603, 101.14853365, 123.19371851,  98.99631254,\n",
       "        41.37145345, 118.57532337, 110.17603182,  45.00054169,\n",
       "       125.64303974,  41.7286791 , 140.16365779,  39.44953204,\n",
       "        33.24027356, 122.92098064,  94.03000966,  94.60945571,\n",
       "       108.33003107,  79.53911052, 110.59012281,  44.60437558,\n",
       "       120.98571341, 130.37254153, 101.21503243,  36.15679045,\n",
       "        32.88970401,  44.86279011,  32.86966095,  34.30235392,\n",
       "       130.64699621, 117.5954507 ,  45.12939942,  61.36864788,\n",
       "       155.1200038 ,  44.36790438,  94.15564157,  42.57211136,\n",
       "        45.92954719,  45.34981247,  98.59239278,  26.6686094 ,\n",
       "        25.70420993, 106.95339478, 134.11593855,  34.07272916,\n",
       "        56.61405611,  50.03852009,  39.53243116,  32.60537947,\n",
       "        52.52362722,  45.87672919, 115.75761471,  33.07020355,\n",
       "       109.91708563,  28.13787288,  50.7433356 , 106.25260017,\n",
       "       119.08781504,  44.10522614,  96.31577707,  36.70896689,\n",
       "        31.62956484, 110.11613924,  18.55964148,  39.19174394,\n",
       "        46.38067929, 139.31424208,  36.63414614, 127.02242293,\n",
       "        50.37176032, 111.42775323, 144.34056678,  85.33867563,\n",
       "       128.98465927, 109.06479453, 155.09494744,  40.09240875,\n",
       "       119.94300974,  36.23244448,  58.66308063,  51.19437034,\n",
       "        47.74539403, 144.25012516, 101.31333962,  93.53503137,\n",
       "        26.78563467,  61.38156052, 129.11250315, 104.4076075 ,\n",
       "        33.85353255, 128.00254436, 106.37869414,  80.37136529,\n",
       "        56.51270068,  41.38339639, 117.44227682, 129.8726075 ,\n",
       "        87.98869892,  45.85001309,  97.7418287 ,  47.47610026,\n",
       "        47.17467959,  44.91631304,  78.80290657,  44.38682613,\n",
       "       130.65845965,  39.82064998,  46.48136626,  47.18381739,\n",
       "        99.26045966])"
      ]
     },
     "execution_count": 45,
     "metadata": {},
     "output_type": "execute_result"
    }
   ],
   "source": [
    "# se le pasa xtest al nuevo modelo para arrojar primeras predicciones\n",
    "ypred2 = regressor_svr2.predict(xtest_london)\n",
    "ypred2"
   ]
  },
  {
   "cell_type": "code",
   "execution_count": 46,
   "metadata": {
    "id": "ZJ0-nJNHkuYJ",
    "scrolled": true
   },
   "outputs": [
    {
     "data": {
      "text/plain": [
       "37.095720074877974"
      ]
     },
     "execution_count": 46,
     "metadata": {},
     "output_type": "execute_result"
    }
   ],
   "source": [
    "# MSE del nuevo modelo comparando predicciones con ytest, el cual resulta prácticamente igual al del primer SVR para este\n",
    "# orden de magnitud (considerando también un MSE de 36,33 en la regresión lineal genérica creada en primera instancia)\n",
    "# (0,2% de variación entre mejores modelos de 1er y 2do SVR)\n",
    "np.sqrt(mean_squared_error(ytest, ypred2))"
   ]
  },
  {
   "cell_type": "code",
   "execution_count": 47,
   "metadata": {},
   "outputs": [],
   "source": [
    "# Teniendo en cuenta estos MSE, se podría decir que las predicciones apenas mejoran del primer juego de hiperparámetros\n",
    "# a los del segundo, ya que el r2 pasa de 0.5095 a 0.5142, valor que en ambos casos sigue siendo bajo como para esperar del\n",
    "# modelo una buena correlación lineal entre los resultados para estos datos de entrenamiento y futuras muestras no vistas."
   ]
  },
  {
   "cell_type": "code",
   "execution_count": 48,
   "metadata": {},
   "outputs": [],
   "source": [
    "# Aclaración: \n",
    "# al principio se dropean el 95% de las muestras ya que en las primeras pruebas los modelos no entrenaban ni durante toda la\n",
    "# noche, y aun probando con un 10% del dataset, todavía le costaba mucho pasar por ciertos juegos de parámetros, que después\n",
    "# terminaban resultando en scores negativos.\n",
    "# Con algunos intentos más y filtrando cada vez menos samples, quizás se puedan mejorar los resultados, pero a modo de ejemplo\n",
    "# para la entrega guardo la notebook así."
   ]
  }
 ],
 "metadata": {
  "colab": {
   "provenance": []
  },
  "kernelspec": {
   "display_name": "Python 3 (ipykernel)",
   "language": "python",
   "name": "python3"
  },
  "language_info": {
   "codemirror_mode": {
    "name": "ipython",
    "version": 3
   },
   "file_extension": ".py",
   "mimetype": "text/x-python",
   "name": "python",
   "nbconvert_exporter": "python",
   "pygments_lexer": "ipython3",
   "version": "3.9.12"
  },
  "vscode": {
   "interpreter": {
    "hash": "c63d8c7d738c2960218a10995aedf0a7f67a49a231e71037adf0440953cdb45b"
   }
  }
 },
 "nbformat": 4,
 "nbformat_minor": 1
}
